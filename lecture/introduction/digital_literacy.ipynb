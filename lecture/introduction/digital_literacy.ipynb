{
 "cells": [
  {
   "cell_type": "markdown",
   "metadata": {
    "slideshow": {
     "slide_type": "slide"
    }
   },
   "source": [
    "## Introduction - digital literacy\n",
    "\n",
    "\n",
    "[Michael Ernst](https://github.com/M-earnest)  \n",
    "Phd student - [Fiebach Lab](http://www.fiebachlab.org/), [Neurocognitive Psychology](https://www.psychologie.uni-frankfurt.de/49868684/Abteilungen) at [Goethe-University Frankfurt](https://www.goethe-university-frankfurt.de/en?locale=en)"
   ]
  },
  {
   "cell_type": "markdown",
   "metadata": {},
   "source": [
    "### Where are we now?\n",
    "\n",
    "Before we start a lesson it is usually helpfulto reflect on what we already know about a certain topic or e.g. what a lesson may possibly try to teach us.\n",
    "\n",
    "So please take a few minutes to reflect on the concept of digital literacy with the following questions.\n",
    "\n",
    "\n",
    "**1.1 What do you think a good definition for digital literacy needs to contain?**\n",
    "\n",
    "**1.2 Can you imagine any reason on why you should care about the concept of digital literacy?**\n",
    "\n",
    "**1.3 What may be interesting implications of digital literacy for a future careeer in science/academia?**\n",
    "\n",
    "\n",
    "\n",
    "_Note: Feel free to do this in your head or in a separate document. Remember, to interactively engage with the material either open it in MyBinder (the small rocket button at the top of the website) or [download the course material](link to course zip), go through the [setup process](link to setup) and open this file (i.e digital_literacy.ipynb in the introduction folder) using Jupyter Notebooks or VScode._"
   ]
  },
  {
   "cell_type": "markdown",
   "metadata": {},
   "source": [
    "```{warning}\n",
    "_Disclaimer_: The following assumes that students are familiar with the setup page. To interact withe the course material students will need to download the course material and open this file on their own machine or use the MyBinder plugin at the top of the screen to access an interactive version of the website. However, students are also welcome to follow along using alternative tools such as Google Docs if they prefer. Please ensure that you have the necessary setup and access to the required technology before beginning the course.\n",
    "\n",
    "If using MyBinder make sure to download your notebook at the end of a session, otherwise all changes you made online will be potentially lost.\n",
    "To download the modified notebook, you can use the \"File\" menu in the Jupyter Notebook interface and select \"Download as\" and choose a file format such as \".ipynb\" (Jupyter Notebook format), \".py\" (Python script), or \".pdf\" (Portable Document Format). Following you can use VScode or the Jupyter notebook software to open your file!\n",
    "```"
   ]
  },
  {
   "cell_type": "markdown",
   "metadata": {
    "slideshow": {
     "slide_type": "slide"
    }
   },
   "source": [
    "## Goals\n",
    "\n",
    "\n",
    "As already explained this course is designed to give you a comprehensive understanding of digital literacy and its various applications. \n",
    "\n",
    "Specific goals of this first session will be to\n",
    "\n",
    "* understand the concept of digital litearacy\n",
    "* understand why digital literarcy is important\n",
    "* understand the ethical and social implications of digital technologies and their meaning for academia and research\n",
    "* gain information on how to build up your digital literacy"
   ]
  },
  {
   "cell_type": "markdown",
   "metadata": {},
   "source": [
    "## Roadmap\n",
    "\n",
    "each a separate notebook\n",
    "\n",
    "- **Goals**\n",
    "- project design/setup\n",
    "- find and evaluate data sources, published research & Literature review strategies\n",
    "- scientific writing\n",
    "    - Getting Started with Google Docs\n",
    "    - link to communication\n",
    "- documentation\n",
    "    - Creating/Maintaining a Lab-notbebook\n",
    "- programinng/coding in research/academia\n",
    "- data managment & storage\n"
   ]
  },
  {
   "cell_type": "markdown",
   "metadata": {
    "slideshow": {
     "slide_type": "slide"
    }
   },
   "source": [
    "## What is \"digital literacy\"?\n",
    "\n",
    "A straightforward definition of digital literacy usually pertains to ones ability to independently find, evaluate, communicate, and handle information from digital media (Shopova 2014).\n",
    "\n",
    "That the lack of digital literacy can limit social integration and personal growth, making it a crucial life skill to possess (Shapiro, 2009) was already true more than a decade ago, nowadays as more and more of our everyday life drifts into virtual spaces it becomes an absolute necessity to be digital literate. This is especially true for people in academdia and research, as every step of our acadmic carreer and every step in the research process nowadays is dependent on finding, evaluating and applying knowledge found online or dependent in the application of digital tools.\n",
    "\n",
    "The importance of digital literacy is not to be underestimated as digital literacy in itself may be viewed simply as  the current form of \"literacy per se\" in our culture - i.e. \"to read, write and otherwise deal with information using the technologies and formats of the time\". (Bawden, 2008)\n",
    "\n",
    "Let's explore the idea behind this ability a bit more closely. There's been quite a few different understandings what it means to be digital literacy over the last decades, each including their own definition and correlated implications (Bawden, 2008). The discourse can roughly be categorized into two positions. \n",
    "\n",
    "Where one position holds the idea that digital literacy is primarily concerned with a set of skills, that have to be aquired to be seen a as digitally literate, while the other holds the idea that digital literacy is focused on the \"cognitive and socio-emotional aspects of working in a digital environment\"\n",
    "\n",
    "For this course we're not only leaning into the idea of digital literacy as a competence or a generalizable ability, following the initial proposition of \"mastering ideas, not keystrokes\" by Paul Glister (1997), but we will demonstrate the underlying concepts, such as how to \"find or handle information\", by discussing specfific tools and how to properly use them. Therefore demonstrating how these concepts relate to the aquisition and possibly mastery of a skillset, that will make scientific work much easier.\n",
    "\n",
    "\n",
    "As this course is primarily centered around scientific practice, we will not be dealing with basic topics such as \"What is this interenet?\", \"what's a meme?\" or \"how do i use social media?\". \n",
    "Although we can make a point of them, as they illustrate the basic point of why digital literacy is such an important concept, namely that there is  “participation gap”, between those who can and can't maneuver digital spaces and handle digital information. \n",
    "\n",
    "The \"participation gap\" this course tries to bridge is based on the differences between those that can effectively use digital tools and information to do scientific work and those who may not have the necessary knowledge yet.\n",
    "\n",
    "\n",
    "\n",
    "\n",
    "\n",
    "\n"
   ]
  },
  {
   "cell_type": "markdown",
   "metadata": {},
   "source": [
    "If you prefer a more extensive definition, here is the one provided by the [Leeds Beckett Universities Centre for Learning and Teaching (2014)](https://teachlearn.leedsbeckett.ac.uk/-/media/files/clt/clt_beckett_embedding_digital_literacy_icons.pdf) in reference to Sterigoulas (2006).\n",
    "\n",
    "\n",
    "Digital literacy is **\"the confident and critical use of information and digital technologies to enhance academic, personal and\n",
    "professional development.\"**\n",
    "\n",
    "Consiting of:\n",
    "\n",
    "- **Computer literacy**: the ability to identify, adopt and use digital devices, applications and services in the fulfilment of activities and tasks whether study, employment or leisure related.\n",
    "\n",
    "\n",
    "- **Information literacy**: the ability to find, access, evaluate, manipulate, re-use, synthesise and record information whilst understanding issues of authority, reliability, provenance, citation and relevance in digitised resources.\n",
    "\n",
    "\n",
    "- **Media literacy**: including, for example, visual literacy, multimedia literacy: the ability to critically read and creatively produce professional communications in the most appropriate media.\n",
    "\n",
    "\n",
    "- **Communication and collaboration**: the ability to develop and engage in digital networks appropriate to the needs of the participants and context, using a range of digital communications tools and showing awareness of identity and reputation management.\n",
    "\n",
    "\n",
    "     \n",
    "- **Digital scholarship**: the ability to participate in academic and professional practices that depend on digital systems, including the use of virtual learning environments, open access repositories, resource discovery tools and emergent technologies whilst demonstrating an awareness of the issues around content discovery, authority, reliability, provenance, licence restrictions, adaption and re purposing of sources.\n",
    "\n",
    "\n",
    "\n",
    "- **Academic practice**: the ability to study and learn effectively in formal and informal technology-rich\n",
    "    environments, including: use of digital tools to support critical thinking, academic writing, note taking, reference management, time and task management; being assessed and attending to feedback in digital/digitised formats; independent study using digital resources and learning materials.\n",
    "\n",
    "\n",
    "\n",
    "- **Professional development planning**: the ability to make informed decisions and achieve goals, through the effective use of digital tools and media, which may include e-portfolios, professional online communication & collaboration tools and networking facilities, demonstrating an awareness of identity and reputation management\n",
    "\n",
    "\n",
    "</br>\n",
    "</br>\n",
    "</br>\n",
    "</br>\n",
    "\n",
    "Along those lines, with some distinctions, the  Joint Information Systems Committee [(JISC)](https://www.jisc.ac.uk/about) demonstrates the complexities of digital literacy in a [seven elements model](https://www.jisc.ac.uk/guides/developing-digital-literacies), \n",
    "\n",
    "\n",
    "\n",
    "<img src=\"https://www.jisc.ac.uk/sites/default/files/7-elements.png\" alt=\"Alternative text\" />\n",
    "\n",
    "<center> \n",
    "<a href=\"https://www.jisc.ac.uk/sites/default/files/7-elements.png\"> © JISC; 16.Dec.2014 </a>\n",
    "</center>\n",
    "\n",
    "\n",
    "\n",
    "\n",
    "</br>\n",
    "</br>\n",
    "</br>\n",
    "</br>\n",
    "\n",
    "**The follwoing sessions will follow these distinctions and we'll mainly concentrate on the topics of**\n",
    "\n",
    "\n",
    "   **- information & media literacy**\n",
    "        - find, evaluate and manage information/data, read and produce academic works using digital media\n",
    "        - BASH, Github\n",
    "\n",
    "   **- digital scholarship/Academic practice**\n",
    "        - research practices centered around digital systems\n",
    "\n",
    "   **- ICT (information and communication technology) literacy**\n",
    "        - adopt and use digital tools/services\n",
    "        - basic coding skills: Python\n",
    "        \n",
    "   **- communication and collaborration**\n",
    "        - data visualization, outreach\n",
    "\n",
    "\n"
   ]
  },
  {
   "cell_type": "markdown",
   "metadata": {},
   "source": [
    "### Digital literacy in research\n",
    "\n",
    "Research has over the years become increasingly more reliant on digital skills. Every step in a research project nowadays is dependent on some tool to make us more efficient, allow or allows greater creativity/freedom in the questions we can ask/answer.\n",
    "\n",
    "The diagram below illustrates the different phases of a research project. Can you think of a specific tool or software that you may use in each separate phase?\n",
    "\n",
    "<img align=\"center\" src=\"https://github.com/M-earnest/diler_dgitial_literacy_course/blob/main/lecture/static/diler-science_process.png?raw=true\" alt=\"logo\" title=\"jupyter\" width=\"800\" height=\"500\" /> \n",
    "\n",
    "\n",
    "To further illustrate what knowledge you may need and what tools someone working psychology or neuroscience, dedicated to open source tools, may use in their research check out the following. (Don't be discouraged if you've never heard about this stuff, that's why we're here after all, right?: \n",
    "\n",
    "\n",
    "<img align=\"center\" src=\"https://github.com/M-earnest/diler_dgitial_literacy_course/blob/main/lecture/static/diler-open_science_process.png?raw=true\" alt=\"logo\" title=\"jupyter\" width=\"900\" height=\"600\" /> \n",
    "\n",
    " \n",
    "One critical component of digial literacy involves the ability to locate and evaluate information in digital spaces. So let's evaluate how we arrived at these specific tools and how we would find information on the relevant theoretical knowledge necessary to properly master each of these research steps. \n",
    "\n",
    "Well, our working group arrived at this selection of tools through years of expierence working in the field of neuroscience, collaboration and some ethical considerations. \n",
    "But relevant questiosn you could ask when looking for new software to use are: \n",
    "- are they free or what are the costs involved?\n",
    "- What capabilities/functionalities do these tools bring to the table and do they match your needs?\n",
    "- what are the prerequisities that one would need to work with these tools and how quickly can they be aquired?\n",
    "- are they niche products or is there a larger community using these tools, that may have already provided guides, tutorials or can answer questions on the tool and it's usage (e.g. is the tool industry standard for your field)?\n",
    "\n",
    "\n",
    "In the following lectures of this course we'll short-cut this porcess and introduce you to most of tools in the graph above, discuss their uses, benefits and how to apply them for your own work, so that you may gain an understanding on how to evaluate software for yourself!\n",
    "\n",
    "But let's maybe question our motivations first? Why are we even here?"
   ]
  },
  {
   "cell_type": "markdown",
   "metadata": {},
   "source": [
    "### Why should you care?\n",
    "\n",
    "How about some more personal reasons? Learning about the tools of open science will help you:\n",
    "\n",
    "- get ahead in your carreer, widen your skill-portfolio\n",
    "- make your life easier, save time and effort\n",
    "- be more effective, make collaboration easier\n",
    "- learn what it means to be [FAIR]() regarding shared information/ressources/data\n",
    "- keep yourself save from lawsuits (e.g. by avoiding unintentional plagiarism)\n",
    "- make science accessible for everyone\n",
    "\n",
    "</br>\n",
    "\n",
    "\n",
    "Teaching students digital literacy plays a critical role in enabling their access to the field of science by providing them with the skills and understanding they need to participate in this growing field. With these skills, students are better equipped to contribute to the advancement of science and help to promote the values of openness and collaboration in the scientific community.\n",
    "\n",
    "Some specific examples would be:\n",
    "\n",
    "**Increased access to data and information:** \n",
    "Digital literacy provides students with the skills they need to access and use large and complex data sets, which are essential for open science. With these skills, students are better equipped to collaborate with other researchers and contribute to the scientific community.\n",
    "\n",
    "**Better collaboration:** Digital literacy enables students to collaborate with researchers from around the world, regardless of location. This allows students to work on open science projects with a broader range of expertise and perspectives, leading to more informed and innovative research.\n",
    "\n",
    "**Improved data management:** Digital literacy helps students to manage and preserve their research data in a manner that is accessible and transparent, allowing other researchers to verify and build upon their work.\n",
    "\n",
    "**Encourages transparency:** Digital literacy encourages students to make their research findings openly available and accessible to other researchers, which promotes transparency and accountability in science. Learning about what it means for research to be FAIR(citation), meaning **F**indable, **A**ccessible, **I**nteroperable, and **R**eusable (regarding analyses and digital assets) will not only turn students into better scientists, but will magnify the impact of their research in general.\n",
    "\n",
    "**Supports open access:** Digital literacy helps students to understand the importance of open access and the benefits it brings to the scientific community. By teaching students about open access, educators can help to ensure that future generations of scientists are committed to making their research openly available to all.\n",
    "\n",
    "\n",
    "\n",
    "\n",
    "\n"
   ]
  },
  {
   "cell_type": "markdown",
   "metadata": {},
   "source": [
    "\n",
    "\n",
    "**Ethical and social implications of Digital literacy and their meaning for academia and research**\n",
    "\n",
    "Let's further reflect how the academic system is shaped by our digital culture.\n",
    "\n",
    "In academia and research, digital technologies have revolutionized the way information is collected, analyzed, and disseminated. However, they have also raised new ethical and social issues, such as privacy and security, intellectual property, and the democratization of information.\n",
    "\n",
    "Academia and research (you and me included) must consider these ethical and social implications when using digital technologies and must work to minimize any negative impacts. This requires an adequate understanding and awareness of digital technologies, their capabilities and the way they shape the scientific process. In short, being digitally literate is essential for everonye involved in this system.\n",
    "\n",
    "Moreover, we, as researchers and academics have a responsibility to ensure that the our scientific output (which nowadays also usually includes  digital technologies in the form of apps or code) promotes the public good and supports the ethical principles our community. This includes protecting data privacy, ensuring that the results of research are not biased, and promoting transparency and access to our results (that are usually funded thorugh tax-payer money).\n",
    "\n",
    "Below you'll find some of the problems emerging from a lacking integration of digital literacy into the academic system.\n",
    "\n",
    "\n",
    "**Systemic barriers in academia:**\n",
    "\n",
    "\n",
    "1. **Unequal access to technology: the aforementioned \"participation gap\"**\n",
    "\n",
    "Students facing socio-economic hardships may not be able to afford the tools they've been trained on in university (think paid software such as Excel, Photoshop, SPSS) or are unable to afford the hardware to participate in research projects. This perpetuates enonomic and career related inequalities and it is our duty as members of society to remedy this flaw.\n",
    "  \n",
    "2. **Inadequate funding for technology and training:**\n",
    "Many academic institutions have limited budgets for technology and training, which can prevent faculty and staff from acquiring the digital skills they need to succeed in the modern academic environment.\n",
    "\n",
    "\n",
    "3. **Outdated policies and procedures:**\n",
    "Academic institutions may have policies and procedures that are not designed to accommodate the use of digital technologies, which can create barriers for faculty and students who want to use these tools in their work or depend on them for future endevaours.\n",
    "\n",
    "4. **Lack of integration of digital tools into curricula:** \n",
    "Students may not receive adequate training in digital tools and technologies during their education, that they will require for their own research projects or future phd positions.\n",
    "\n",
    "5. **Resistance to change:** \n",
    "Due to not understanding the necessity of digital skills in the sciences, some faculty members may be resistant to the use of digital technologies in their teaching, which can create barriers for students who are trying to develop their digital skills. (E.g why would a psychologist need to be able to code?)\n",
    "\n",
    "6. **Inadequate support:**\n",
    "There may be a lack of support for faculty members who are trying to integrate digital tools into their teaching, including inadequate training and resources \n",
    "\n"
   ]
  },
  {
   "cell_type": "markdown",
   "metadata": {
    "slideshow": {
     "slide_type": "subslide"
    }
   },
   "source": [
    "### Where are we now?\n",
    "\n",
    "\n",
    "Please take a moment to reflect on if and how your understanding of the concept of digital literacy has possibly changed following this lecture.\n",
    "\n",
    "**2.1 How well informed we're you with regard to the current topic? (i.e.,\n",
    "did you know what was expecting you?)**\n",
    "\n",
    "**2.2) What was the most surprising part of the training/lecture for you? What information in particular stood out to you?**\n",
    "\n",
    "**2.3 What was one of the mentioned reasons on why you should care about digital literacy that seemed especially important to you?**\n",
    "\n",
    "**2.4 Could you think of other impacts that a better understanding of digital literacy may have on your life?**\n",
    "\n"
   ]
  },
  {
   "cell_type": "markdown",
   "metadata": {},
   "source": [
    "\n"
   ]
  },
  {
   "cell_type": "markdown",
   "metadata": {
    "slideshow": {
     "slide_type": "slide"
    }
   },
   "source": [
    "## References\n",
    "\n",
    "\n",
    "Gilster, P., & Glister, P. (1997). Digital literacy (p. 1). New York: Wiley Computer Pub.\n",
    "\n",
    "Shapiro, H. (2009) Supporting Digital Literacy: Public Policies and Stakeholder Initiatives. Final Report: Topic\n",
    "Report 4: Conclusions and recommendations based on reviews and findings. Danish Technological Institute.\n",
    "\n",
    "Bawden, D. (2008). Origins and concepts of digital literacy. Digital literacies: Concepts, policies and practices, 30(2008), 17-32.\n",
    "\n",
    "Stergioulas, L.K. (2006) The pursuit of digital literacy and e-inclusion in schools: curriculum development and\n",
    "teacher education. E-start presentation."
   ]
  },
  {
   "cell_type": "markdown",
   "metadata": {},
   "source": [
    "\n",
    "## TLDR\n",
    "\n",
    "We will necessarily be increasingly relying on computational support to deal with information, data and analysis as a direct result of the increase in complexity, volume and speed in the creation of scientific works. Therefore it is crucial to be equipped with the understanding and skill to know how and when to rely on digital assets. If you wanna hang with the best, get with the times!\n",
    "\n",
    "We've further learned about\n",
    "\n",
    "- digital literacy, definition and it's components\n",
    "- the role of digital literacy in the research worklfow\n",
    "- ethical implication and why we should care"
   ]
  }
 ],
 "metadata": {
  "celltoolbar": "Slideshow",
  "kernelspec": {
   "display_name": "Python 3 (ipykernel)",
   "language": "python",
   "name": "python3"
  },
  "language_info": {
   "codemirror_mode": {
    "name": "ipython",
    "version": 3
   },
   "file_extension": ".py",
   "mimetype": "text/x-python",
   "name": "python",
   "nbconvert_exporter": "python",
   "pygments_lexer": "ipython3",
   "version": "3.7.6"
  },
  "rise": {
   "scroll": "true"
  }
 },
 "nbformat": 4,
 "nbformat_minor": 2
}
