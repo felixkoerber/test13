{
 "cells": [
  {
   "cell_type": "markdown",
   "id": "af9a4805",
   "metadata": {},
   "source": [
    "# Introduction I\n",
    "\n",
    "Now let's get to the name giving topic of this course: Digital literacy.\n",
    "\n",
    "We'll also be talking about open-science, open-source and open-acess as they pertain to every scientifc endeavour.\n",
    "\n",
    "\n",
    "\n",
    "\n",
    "## Topics 💡👨🏻‍🏫\n",
    "\n",
    "In the following you'll find the `objectives` and `materials` for each of the topics we'll discuss during this session.\n",
    "\n",
    "### Course overview/setup/outline\n",
    "\n",
    "\n",
    "#### Objectives 📍\n",
    "- Get to know the concept of digital literarcy\n",
    "- x\n",
    "- x\n",
    "- x\n",
    "- Ask and answer questions\n",
    "- Have a great time\n",
    "\n",
    "#### Materials 📓\n",
    "\n",
    "---  adapt-----------------------------\n",
    "\n",
    "\n",
    "## Project related work 🥼🧑🏿‍🔬👩🏻‍🔬\n",
    "\n",
    "Not applicable, as project related work didn't start yet.\n",
    "\n",
    "## tasks for subsequent meeting 🖥️✍🏽📖\n",
    "\n",
    "Not applicable, as we will ease into things.\n",
    "\n",
    "## optional/reading/further materials\n",
    "\n",
    "Here are some things that you could check out further regarding the topics discussed\n",
    "\n",
    "### The Turing Way\n",
    "\n",
    "\n",
    "\n",
    "### Project TIER\n",
    "\n",
    "\n"
   ]
  }
 ],
 "metadata": {
  "kernelspec": {
   "display_name": "Python 3 (ipykernel)",
   "language": "python",
   "name": "python3"
  },
  "language_info": {
   "codemirror_mode": {
    "name": "ipython",
    "version": 3
   },
   "file_extension": ".py",
   "mimetype": "text/x-python",
   "name": "python",
   "nbconvert_exporter": "python",
   "pygments_lexer": "ipython3",
   "version": "3.7.6"
  }
 },
 "nbformat": 4,
 "nbformat_minor": 5
}
