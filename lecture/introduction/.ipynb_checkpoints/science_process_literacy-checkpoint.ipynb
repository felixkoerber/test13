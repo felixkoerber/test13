{
 "cells": [
  {
   "cell_type": "markdown",
   "id": "6965cd69",
   "metadata": {},
   "source": [
    "### Digital literacy and the scientific process\n",
    "\n",
    "--- introduction\n",
    "\n",
    "\n",
    "---- graph\n",
    "\n",
    "\n",
    "\n",
    "---- step by step explanation"
   ]
  },
  {
   "cell_type": "markdown",
   "id": "1bc68e72",
   "metadata": {},
   "source": [
    "per step excercise to identify needs, dependencies, find tools"
   ]
  },
  {
   "cell_type": "code",
   "execution_count": null,
   "id": "666ddadc",
   "metadata": {},
   "outputs": [],
   "source": [
    "- point-map conspiracy meme"
   ]
  },
  {
   "cell_type": "code",
   "execution_count": null,
   "id": "0d92d0b5",
   "metadata": {},
   "outputs": [],
   "source": [
    "http://www.researchtransparency.org/"
   ]
  }
 ],
 "metadata": {
  "kernelspec": {
   "display_name": "Python 3 (ipykernel)",
   "language": "python",
   "name": "python3"
  },
  "language_info": {
   "codemirror_mode": {
    "name": "ipython",
    "version": 3
   },
   "file_extension": ".py",
   "mimetype": "text/x-python",
   "name": "python",
   "nbconvert_exporter": "python",
   "pygments_lexer": "ipython3",
   "version": "3.7.6"
  }
 },
 "nbformat": 4,
 "nbformat_minor": 5
}
