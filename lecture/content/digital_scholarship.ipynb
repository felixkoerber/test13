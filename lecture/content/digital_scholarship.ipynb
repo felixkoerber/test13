{
 "cells": [
  {
   "cell_type": "markdown",
   "id": "6b7ea083",
   "metadata": {},
   "source": [
    "### Digital scholarship/academic practice\n",
    "\n",
    "### Introduction\n",
    "Digital scholarship here refers to research practices centered around the usage of digital systems. \n",
    "    \n",
    "Due to the evolution of computers and increasingly faster communication technologies science has evolved beyond simply collecting data for a specific project, running some (simple) analysis and publishing results in a scientific journal. Buzzwords like \"Big Data\", \"cloud computing\" and Machine learning/A.I have taken the world, Academia included, by storm. In the following lesson we'll provide a general introduction regarding relevant concepts and technlogogies, how and when to apply them and guide you towards additional ressources that may help you evolve these skillsets yourself.\n",
    "\n",
    "## Motivation: Why coding is necessary in modern research\n",
    "\n",
    "\n",
    "## Goals\n",
    "\n",
    "\n",
    "Specific goals of this first session will be to\n",
    "\n",
    "* \n",
    "\n",
    "\n",
    "## Roadmap\n",
    "\n",
    "We'll mostly concentrate on the trio of **Big Data Analytics, Machine Learning/AI and Cloud Computing** in the following content blocks. You'll also be more generally introduced about relevant concepts like **Social Media Analytics, Natural Language Processing, Human-Computer Interaction, Internet of Things (IoT) approach and Social Media Analytics**.\n",
    "\n",
    "https://external-preview.redd.it/hWh_8TpqrT6zAwpzHJ_m9Rx3iHjc_yI4zSI6aazMFTc.jpg?auto=webp&s=6d8006ac3edca5bad98dd7b5b9a4a8d5554eaff0\n",
    "\n",
    "</br>\n",
    "\n",
    "**Follow these links or use the table of contents on the left side to navigate this module**\n",
    "\n",
    "* [Big Data Analytics](link):\n",
    "    Collecting and analyzing large amounts of data\n",
    "    FAIR principles\n",
    "* [Machine Learning/AI]():\n",
    "\n",
    "* [Cloud Computing]():\n",
    "    Old school: BASH & SSH\n",
    "    new approaches: Google colab\n",
    "    \n",
    "* [Digital research practices]():\n",
    "    Social Media Analytics, Natural Language Processing, Human-Computer Interaction, Internet of Things (IoT) approach and Social Media Analytics\n",
    "    \n",
    "    \n",
    "\n"
   ]
  }
 ],
 "metadata": {
  "kernelspec": {
   "display_name": "Python 3 (ipykernel)",
   "language": "python",
   "name": "python3"
  },
  "language_info": {
   "codemirror_mode": {
    "name": "ipython",
    "version": 3
   },
   "file_extension": ".py",
   "mimetype": "text/x-python",
   "name": "python",
   "nbconvert_exporter": "python",
   "pygments_lexer": "ipython3",
   "version": "3.7.6"
  }
 },
 "nbformat": 4,
 "nbformat_minor": 5
}
