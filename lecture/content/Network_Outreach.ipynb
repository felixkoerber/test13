{
 "cells": [
  {
   "attachments": {},
   "cell_type": "markdown",
   "id": "0dfb00e2",
   "metadata": {},
   "source": [
    "# Network & Outreach\n",
    "OSF\n",
    "Researchgate\n",
    "Github\n",
    "\n",
    "Extra:\n",
    "    - extract from peers website and dei\n",
    "\n"
   ]
  },
  {
   "attachments": {},
   "cell_type": "markdown",
   "id": "c650a2f8",
   "metadata": {},
   "source": [
    "\n",
    "## OSF - Manage your Research\n",
    "\n",
    "The `Open Science Framework (OSF)` is a powerful online platform designed to facilitate the collaborative and transparent sharing of research materials, data, and workflows. OSF serves as a central hub for researchers, scholars, and institutions to manage their research projects and collaborate with others across various fields of study. With the growing emphasis on transparency, reproducibility, and open access in scientific research, OSF has become an essential tool for promoting open science practices.\n",
    "\n",
    "<iframe src=\"https://www.youtube.com/embed/iebMBpi0prc\" width=\"560\" height=\"315\" title=\"A YouTube video\" frameborder=\"0\" allowfullscreen></iframe>"
   ]
  },
  {
   "attachments": {},
   "cell_type": "markdown",
   "id": "5f46025d",
   "metadata": {},
   "source": [
    "#### The Reproducibility Crisis\n",
    "\n",
    "The reproducibility crisis has become a major concern in scientific research in recent years. It refers to the inability of researchers to reproduce the findings of previous studies, leading to a lack of confidence in the scientific process and undermining the credibility of scientific research.\n",
    "\n",
    ">This is issue is well known in psychology, where a the `Reproducibility Project` repeated 100 famous published psychology studies in the early 2010s. After ensuring that most conditions were met, when compared to the original studies, only 35 out of 97 results of studies could be replicated, often with a smaller effect sizes than in the original papers. Please check out the [produced paper](https://osf.io/ezcuj/wiki/home/), as it gives further context to reproducibility and the state that research still is in today.\n",
    "\n",
    "The reproducibility crisis is a `complex issue with multiple underlying causes`. One major factor is the `pressure to publish` and the emphasis on novel, groundbreaking results in scientific research. This pressure can lead to researchers cutting corners or engaging in `questionable research practices` in order to produce results that are more likely to be published. These practices can include selective reporting of results, p-hacking, and HARKing (hypothesizing after results are known).\n",
    "\n",
    "Another factor contributing to the reproducibility crisis is the `lack of transparency` in research. Many researchers do not share their raw data, code, or methodology with others, making it difficult for others to replicate their findings. This lack of transparency can lead to errors, biases, or even fraud going undetected, further undermining the credibility of scientific research."
   ]
  },
  {
   "attachments": {},
   "cell_type": "markdown",
   "id": "fc421a29",
   "metadata": {},
   "source": [
    "### OSF and Open-Science: Adressing the Reproducibility Crisis\n",
    "\n",
    "To address the reproducibility crisis, researchers and institutions must take a multi-faceted approach. This includes adopting more transparent research practices, such as making raw data, code, and methodology openly available. It also includes adopting rigorous statistical and analytical practices, such as preregistering hypotheses and using appropriate statistical methods to avoid false positives.\n",
    "\n",
    "![OSF](https://www.cos.io/hs-fs/hubfs/workflow-21.png?width=1400&name=workflow-21.png)\n",
    "\n",
    "\n",
    "The adoption of OSF by the scientific community has been driven by the need to address these factors of the `reproducibility crisis` and promote greater transparency in research. OSF provides a secure and centralized platform for sharing and archiving research data and materials, enabling researchers to make their work more transparent, accessible, and reusable.\n",
    "\n",
    "Furthermore, OSF also provides a range of tools and features to help researchers manage their projects, collaborate with others, and streamline their workflows. By providing a comprehensive suite of tools and services, OSF helps researchers to work more efficiently and effectively, while also promoting the principles of `open science`.\n",
    "\n",
    "OSF is an important resource for the open science community, providing a powerful platform for sharing, collaborating, and managing research projects. As open science practices continue to gain traction, the use of OSF is likely to become even more widespread, facilitating greater transparency, reproducibility, and collaboration across scientific disciplines."
   ]
  },
  {
   "attachments": {},
   "cell_type": "markdown",
   "id": "bc3dc571",
   "metadata": {},
   "source": [
    "### Getting Started with OSF: Import a GitHub repository\n",
    "\n",
    "By now, you should be able to tell that OSF is a versatile tool for open-science. While we can't talk about even a small fraction of what you can (and should!) do with OSF, let's start with creating an account and importing a GitHub-repository into OSF: \n",
    "\n",
    "**1. Visit https://osf.io/ and Sign-Up**\n",
    "\n",
    "<a href=\"https://ibb.co/ZGdXrHP\"><img src=\"https://i.ibb.co/JmntTx4/OSF-home.png\" alt=\"OSF-home\" border=\"0\"></a>\n",
    "\n",
    "**2. Create a new Project**\n",
    "\n",
    "<a href=\"https://ibb.co/Wpt6GsP\"><img src=\"https://i.ibb.co/3Yz74kM/OSF-Dashboard.png\" alt=\"OSF-Dashboard\" border=\"0\"></a>\n",
    "\n",
    "Add a name and the storage location:\n",
    "\n",
    "<a href=\"https://ibb.co/mF6kXXF\"><img src=\"https://i.ibb.co/Z1W5YY1/OSF-create-project.png\" alt=\"OSF-create-project\" border=\"0\"></a>\n",
    "\n",
    "After reloading the page, the project should now appear on your dashboard.\n",
    "\n",
    "<a href=\"https://ibb.co/0sVYXPS\"><img src=\"https://i.ibb.co/Drgwb3y/OSF-Reload.png\" alt=\"OSF-Reload\" border=\"0\"></a>\n",
    "\n",
    "**4. Open the project, get familiar with the overview and add a project description**\n",
    "\n",
    "<a href=\"https://ibb.co/stTqTLD\"><img src=\"https://i.ibb.co/4JbpbBD/OSF-Description.png\" alt=\"OSF-Description\" border=\"0\"></a>\n",
    "\n",
    "**5. Linking GitHub** \n",
    "In the `Add-Ons`-Tab, you link various services like GitHub and Zotero. For starters, search for `GitHub` and press `Enable`.\n",
    "\n",
    "<a href=\"https://ibb.co/k3mk97x\"><img src=\"https://i.ibb.co/pWhGR7x/OSF-Add-on.png\" alt=\"OSF-Add-on\" border=\"0\"></a>\n",
    "\n",
    "Now you can link your GitHub account and import an existing repository or create a new one.\n",
    "\n",
    "<a href=\"https://ibb.co/vmnjBkP\"><img src=\"https://i.ibb.co/ctnrvQF/OSF-Add-on-Git-HUB.png\" alt=\"OSF-Add-on-Git-HUB\" border=\"0\"></a>\n",
    "\n",
    "\n",
    "**6. The data of your repository is now imported into OSF**\n",
    "\n",
    "<a href=\"https://ibb.co/PDkSkzS\"><img src=\"https://i.ibb.co/KKn1nz1/OSF-updated-Dashboard.png\" alt=\"OSF-updated-Dashboard\" border=\"0\"></a>\n",
    "\n",
    "**(7. Preregistration your Research Plan)**\n",
    "As brushed over before, this preregistrating a research plan is an essential part for open-science. Since there are many things to look out for, we recommend [OSF's tutorial on Preregistration](https://help.osf.io/article/158-create-a-preregistration).\n",
    "\n",
    "<a href=\"https://ibb.co/s5R4c1m\"><img src=\"https://i.ibb.co/SQygHms/OSF-registration.png\" alt=\"OSF-registration\" border=\"0\"></a>\n"
   ]
  }
 ],
 "metadata": {
  "kernelspec": {
   "display_name": "Python 3 (ipykernel)",
   "language": "python",
   "name": "python3"
  },
  "language_info": {
   "codemirror_mode": {
    "name": "ipython",
    "version": 3
   },
   "file_extension": ".py",
   "mimetype": "text/x-python",
   "name": "python",
   "nbconvert_exporter": "python",
   "pygments_lexer": "ipython3",
   "version": "3.7.6"
  }
 },
 "nbformat": 4,
 "nbformat_minor": 5
}
