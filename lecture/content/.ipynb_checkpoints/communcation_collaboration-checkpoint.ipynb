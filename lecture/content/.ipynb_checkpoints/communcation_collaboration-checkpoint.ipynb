{
 "cells": [
  {
   "cell_type": "markdown",
   "id": "8f813b60",
   "metadata": {},
   "source": [
    "### Communication and Collaboration"
   ]
  },
  {
   "cell_type": "markdown",
   "id": "a248b6a4",
   "metadata": {},
   "source": [
    "[Michael Ernst](https://github.com/M-earnest)  \n",
    "Phd student - [Fiebach Lab](http://www.fiebachlab.org/), [Neurocognitive Psychology](https://www.psychologie.uni-frankfurt.de/49868684/Abteilungen) at [Goethe-University Frankfurt](https://www.goethe-university-frankfurt.de/en?locale=en)\n"
   ]
  },
  {
   "cell_type": "markdown",
   "id": "ee214c75",
   "metadata": {},
   "source": [
    "#### Beyond publication: research dissemination & communication\n",
    "\n",
    "\n",
    "\n"
   ]
  },
  {
   "cell_type": "markdown",
   "id": "d54184ab",
   "metadata": {},
   "source": [
    "### Where are we now?\n",
    "\n",
    "Before we start a lesson it is usually helpfulto reflect on what we already know about a certain topic or e.g. what a lesson may possibly try to teach us.\n",
    "\n",
    "So please take a few minutes to reflect on the concept of digital literacy with the following questions.\n",
    "\n",
    "\n",
    "**1.1**\n",
    "\n",
    "\n",
    "\n",
    "_Note: Feel free to do this in your head or in a separate document. Remember, to interactively engage with the material either open it in MyBinder (the small rocket button at the top of the website) or [download the course material](link to course zip), go through the [setup process](link to setup) and open this file (i.e digital_literacy.ipynb in the introduction folder) using Jupyter Notebooks or VScode._"
   ]
  },
  {
   "cell_type": "markdown",
   "id": "8a747e63",
   "metadata": {
    "slideshow": {
     "slide_type": "slide"
    }
   },
   "source": [
    "## Goals\n",
    "\n",
    "\n",
    "As already explained this course is designed to give you a comprehensive understanding of digital literacy and its various applications. \n",
    "\n",
    "Specific goals of this first session will be to\n",
    "\n",
    "* "
   ]
  },
  {
   "cell_type": "markdown",
   "id": "db8801dc",
   "metadata": {},
   "source": [
    "## Roadmap\n",
    "\n",
    "- **Goals**\n",
    "- Digital Collaboration\n",
    "- Digital Storytelling:\n",
    "    - Creating content using Jupyter Books\n",
    "    - Hosting content using Github and Github pages\n",
    "- Data visualization\n",
    "- Science communication: Publication and Beyond\n",
    "- Networks & outreach\n",
    "\n",
    "\n",
    "\n",
    "## Goals\n",
    "1. "
   ]
  },
  {
   "cell_type": "markdown",
   "id": "6aa42d5a",
   "metadata": {},
   "source": [
    "## Introduction\n",
    "\n",
    "- importance of collaboration in research\n",
    "- importance of communication in research\n",
    "\n",
    "- avenues of communication/collaboration\n",
    "- motivation\n",
    "- what to expect\n",
    "\n",
    "\n",
    "<img align=\"center\" src=\"https://oreoni.github.io/_images/fig5.png\" alt=\"logo\" title=\"jupyter\" width=\"500\" height=\"200\" /> \n",
    "\n"
   ]
  },
  {
   "cell_type": "markdown",
   "id": "2277556f",
   "metadata": {},
   "source": [
    "## Digital collaboration:\n",
    "\n",
    "\n",
    "The Covid pandemic introduced many in academia to the neccessities of digital spaces. Further academia is often less of a centralized workplace than calssic buisnesses ann your work will often be depending on researchers and colleagues in remote places due to international partnerships, scientific conferences or reserach visitaions. As \n",
    "you've already met google docs as a tool for collaborative writing in the [previous chapter](link to media/info literacy), the following part will list a number of digital tools that you can use for collaborative work in these situations and where to learn more.\n",
    "\n",
    "**Online Collaborative Writing**: Working with others to produce collaborative writing projects, such as wikis, blogs, and other online writing platforms. Shared Documents, e.g. using `Google docs` or `Overleaf` allow multiple users to edit and contribute to a single document or set of documents in real-time.\n",
    "\n",
    "tutorials:\n",
    "- docs\n",
    "- overleaf\n",
    "\n",
    "**Virtual Meeting Platforms**: Discord, Google Meet, and other platforms provide a way to have virtual meetings, video conferences, and webinars. They allow participants to share screens, chat, and organize wokrgroups.\n",
    "\n",
    "tutorials:\n",
    "- discord\n",
    "\n",
    "**Project Management Software**: Project management tools such as [Trello](https://trello.com/home), or GitHub Projects allows teams to plan, organize, and track work on shared projects. They provide a centralized place to store project information, set tasks and deadlines, and communicate with team members. \n",
    "\n",
    "tutorials:\n",
    "- trello\n",
    "- [Github Projects Quickstart](https://docs.github.com/en/issues/planning-and-tracking-with-projects/learning-about-projects/about-projects)\n",
    "\n",
    "\n",
    "**Code Collaboration**: [GitHub](https://github.com/), [GitLab](https://about.gitlab.com/), and [Google Colab](https://colab.research.google.com/) are code collaboration platforms that allow multiple developers to work on code together. They provide version control, code review, and collaboration features to make it easy for teams to work together on coding projects.\n",
    "\n",
    "Tutorial: [Collaborative work using colab](https://aguaclara.github.io/aguaclara_tutorial/colab/colab-collaboration.html)\n"
   ]
  },
  {
   "cell_type": "markdown",
   "id": "06f2e700",
   "metadata": {},
   "source": [
    "#### The Allstar GitHub:\n",
    "\n",
    "You might have noticed that the name GitHub appeared multiple times in this course already. \n",
    "\n",
    "GitHub is the gold-standard tool in the tech and coding world. GitHub does it all from code collaboration, colaborative writing, project managment, version control, but also code, file and data hosting. It can even be used to host your websites and allows others to engage and share your work, as well as leave comments regarding possible problems, solutions or improvements. \n",
    "\n",
    "A short Guide on how to get started with Github can be found in the [respective chapter](link to github-tutorial). Or you can follow the [Introduction to Github from the turing way project](https://the-turing-way.netlify.app/collaboration/github-novice.html#cl-github-novice).\n",
    "\n"
   ]
  },
  {
   "cell_type": "markdown",
   "id": "83a4a446",
   "metadata": {},
   "source": [
    "## Digital Storytelling:\n",
    "    \n",
    "\n",
    "\n",
    "    - add reminder that lab-notebooks stored in github can be easiyl integrated as documentation into jb books\n",
    "\n",
    "https://tlp-lpa.ca/digital-skills/digital-storytelling\n",
    "\n",
    "https://en.wikipedia.org/wiki/Living_document\n",
    "https://contractbook.com/dictionary/living-document-or-dynamic-document\n",
    "\n",
    "e.g.\n",
    "\n",
    "https://www.uni-bielefeld.de/lehre/living-document/\n",
    "\n",
    "\n",
    "### Jupyter Books\n",
    "\n",
    "Jupyter Books provides a flexible and powerful platform for creating, publishing, and sharing your work. Creating content using Jupyter Books is a simple process that allows you to combine text, code, and other multimedia elements into a single, interactive document. \n",
    "\n",
    "Here's a TlDR guide on how to create content using Jupyter Books:\n",
    "\n",
    "**1. Install Jupyter Books**: On macOS and Linux this is relatively straightforward by opening a terminal and inputing the command \n",
    "\n",
    "`pip install jupyter-book`\n",
    "\n",
    "- Add windows explanation\n",
    "\n",
    "**2. Create a new book**: Creating a new book is as simple as running the command \"jupyter-book create mybook\", where \"mybook\" should be replaced with the name of your book.\n",
    "\n",
    "#### Content creation\n",
    "\n",
    "Creating content for your book is very straightforward. Using e.g. the text-editor VsCode that we've installed in the [setup](), you can create a jupyter notebook (.ipynb) or markdown (.md) file. A tutorial on how to create \n",
    "\n",
    "**3. Add content**: You can add content to your book by creating markdown files and Jupyter notebooks. To create a markdown file, you can use any text editor and save the file with a \".md\" extension. To create a Jupyter notebook, you can use the Jupyter interface and save the file with a \".ipynb\" extension.\n",
    "\n",
    "**4. Link and structure content**: To link the different components of your book together, you'll need to create a table of contents file in the markdown format. The file specifies the order of your chapters and sections, as well as the links to the corresponding markdown and Jupyter notebook files. \n",
    "\n",
    "\n",
    "#### Table of contents files\n",
    "\n",
    "The structure of a table of contents (TOC) file for a Jupyter book depends on the organization of your book and the chapters and sections that you want to include. The structure of the TOC file defines the organization and order of the pages in your Jupyter book.\n",
    "\n",
    "A basic structure for a TOC file in a Jupyter book would include the following elements:\n",
    "\n",
    "    Title: The title of your book.\n",
    "\n",
    "    Introduction: A section that provides an overview of the purpose and content of your book.\n",
    "\n",
    "    Chapters: Each chapter in your book should be listed as a separate item in the TOC file, and each chapter should include a title and a list of sections.\n",
    "\n",
    "    Sections: Each section in your book should be listed as a separate item within the relevant chapter in the TOC file, and each section should include a title and a file reference.\n",
    "\n",
    "Here's an example of a simple TOC file for a Jupyter book:\n",
    "\n",
    "\n",
    "```\n",
    "title: My Jupyter Book\n",
    "\n",
    "introduction:\n",
    "  - file: intro.ipynb\n",
    "  - title: Introduction\n",
    "\n",
    "chapters:\n",
    "  - title: Chapter 1\n",
    "    sections:\n",
    "      - title: Section 1.1\n",
    "        file: chapter_1/section_1.1.ipynb\n",
    "      - title: Section 1.2\n",
    "        file: chapter_1/section_1.2.ipynb\n",
    "\n",
    "  - title: Chapter 2\n",
    "    sections:\n",
    "      - title: Section 2.1\n",
    "        file: chapter_2/section_2.1.ipynb\n",
    "      - title: Section 2.2\n",
    "        file: chapter_2/section_2.2.ipynb\n",
    "\n",
    "```\n",
    "\n",
    "In this example, the book has two chapters, each with two sections. The title and file reference for each section is specified, and the order of the chapters and sections is defined by the order in which they are listed in the TOC file. The TOC file should be saved with the filename toc.yml in the root directory of your Jupyter book.\n",
    "\n",
    "\n",
    "\n",
    "**5. Build the book**: To build your book open a terminal and run the command \"jupyter-book build mybook\". Replace \"mybook\" with the name of your book. This will compile all of your content into a single, interactive document that can be viewed in a web browser. The newly created files will be stored in a new folder called \"\\_build\", contained you'll find another falled called \"html\", click on any of the herein contained .html files to open your book in your webbrowser\n",
    "\n",
    "**6. Publish the book**: Finally, you can publish your book online by using a service such as GitHub Pages, which will be explained in the following section-\n",
    "\n",
    "\n"
   ]
  },
  {
   "cell_type": "markdown",
   "id": "b8bd769e",
   "metadata": {},
   "source": [
    "### Github pages:\n",
    "\n",
    "GitHub Pages is a free web hosting service provided by GitHub. It allows one to easily publish websites directly from a GitHub repository. With GitHub Pages, you can create static websites, blogs, and even project portfolios without having to worry about managing servers or purchasing web hosting.\n",
    "\n",
    "You simply create a repository in GitHub and push your website files (HTML, CSS, JavaScript, etc.) to the repository. GitHub Pages then automatically generates the website and makes it available at a unique URL. This URL is typically in the format \"username.github.io/repository-name\".\n",
    "\n",
    "GitHub Pages makes it relatively easy to host your own website for developers and programmers, e.g. this course, but can be confusing for non-technical users. \n",
    "A workaround for non-technical users is to work with a preconfigured setup. Our workgroup for example has created a template that you can use to host a website like the one you're seeing right now. This is achieved by using a so called \"github-worklflow\". Chechout our tutorial for creating a website using Github pages [here]()\n",
    "\n",
    "-- paste tutorial here\n"
   ]
  },
  {
   "cell_type": "markdown",
   "id": "123f20cb",
   "metadata": {},
   "source": [
    "add links to further tutorials\n",
    "- jb books\n",
    "- gh pages"
   ]
  },
  {
   "cell_type": "markdown",
   "id": "9773ea74",
   "metadata": {},
   "source": [
    "## Data visualization\n",
    "\n",
    "- embedd python notebooks\n",
    "- Color-blindness"
   ]
  },
  {
   "cell_type": "markdown",
   "id": "ba9dff45",
   "metadata": {},
   "source": [
    "## Science communication: Publication and Beyond\n",
    "### The turing way: Everything you need to know for science communication\n",
    "\n",
    "The go to ressource for modern, digital science communication was created by the [Turing Way project](https://the-turing-way.netlify.app/welcome.html).\n",
    "\n",
    "https://the-turing-way.netlify.app/communication/communication.html\n",
    "\n",
    "\n",
    "### Publication\n",
    "\n",
    "The main avenue of science communication has always been the journal publication, as this process is complex and time-consuming you'll usually supported by your supervisor or senior lab-members. Therefore we won't get into this process here.\n",
    "\n",
    "A new developmeng in science communication is the so called preprint.\n",
    "\n",
    "A preprint is an early version of a scientific manuscript that is made publicly available online prior to formal peer review and publication in a journal. The main benefits of preprints are:\n",
    "\n",
    "    Faster dissemination of research findings: Preprints allow researchers to make their work public as soon as it is ready, allowing other researchers and the general public to access and build upon their findings more quickly.\n",
    "\n",
    "    Improved visibility and impact: Preprints increase the visibility of research by making it more discoverable online, which can lead to greater impact and more citations.\n",
    "\n",
    "    Enhanced collaboration and feedback: Preprints provide researchers with an opportunity to receive early feedback from the community and collaborate with other researchers, leading to improved research quality and productivity.\n",
    "\n",
    "The most common platforms for publishing preprints in the field of scientific research are:\n",
    "\n",
    "    [arXiv](https://arxiv.org/): A popular platform for preprints in physics, mathematics, computer science, and other related fields.\n",
    "\n",
    "    [bioRxiv](https://www.biorxiv.org/): A platform for preprints in the life sciences and biology.\n",
    "\n",
    "    [SocArXiv](https://osf.io/preprints/socarxiv): A platform for preprints in the social sciences.\n",
    "\n",
    "\n",
    "\n",
    "\n",
    "\n",
    "#### Creating an open & reproducible publication from scratch\n",
    "\n",
    "Many of the things we've discussed here are further implemented in the in-depth guide on how to create an open and reprdocuible publication in the field of neuroimaging. If you're interested in building a portfolio and doing open research, follow this guide:\n",
    "\n",
    "- [\"Open and reproducible neuroimaging: from study inception to publication\"](https://oreoni.github.io/)\n",
    "\n",
    "\n",
    "### Building your personal website\n",
    "\n",
    "As a reseacher it is essential to connect with others, it is therefore sensible to manage your online presence by creating a personal website to communicate your work, how you can be reached etc. This can also be used as your personal blog, which is a great starting point to level up your writing skills and learn how to think, write and communicate your ideas more clearly.\n",
    "\n",
    "- can be achieved via github pages\n",
    "\n",
    "\n",
    "- https://hydejack.com/\n",
    "\n",
    "https://github.com/hydecorp/hydejack\n",
    "\n",
    "example\n",
    "https://peerherholz.github.io/\n",
    "\n"
   ]
  },
  {
   "cell_type": "markdown",
   "id": "fe5c3e2c",
   "metadata": {},
   "source": [
    "## Network & Outreach\n",
    "\n",
    "OSF\n",
    "Researchgate\n",
    "Github\n",
    "\n",
    "Extra:\n",
    "    - extract from peers website and dei\n",
    "\n"
   ]
  },
  {
   "cell_type": "markdown",
   "id": "22f1d558",
   "metadata": {},
   "source": [
    "### Where are we now?\n",
    "\n",
    "---- adapt and expand ------\n",
    "\n",
    "Please take a moment to reflect on if and how your understanding of the concept of digital literacy has possibly changed following this lecture.\n",
    "\n",
    "**2.1 How well informed we're you with regard to the current topic? (i.e.,\n",
    "did you know what was expecting you?)**\n",
    "\n",
    "**2.2) What was the most surprising part of the training/lecture for you? What information in particular stood out to you?**\n",
    "\n",
    "**2.3 What was one of the mentioned reasons on why you should care about digital literacy that seemed especially important to you?**\n",
    "\n",
    "**2.4 Could you think of other impacts that a better understanding of digital literacy may have on your life?**\n",
    "\n"
   ]
  },
  {
   "cell_type": "markdown",
   "id": "c66820e6",
   "metadata": {},
   "source": [
    "### Homework, Excercises and ressources\n",
    "\n",
    "    - find 3 local researchers whoose work could be of interest of you, follow them on osf and researchgate\n",
    " \n",
    "    - request paper access via Reserachate\n",
    "    \n",
    "   \n",
    "    - follow 1 scientist on github\n",
    "    \n",
    "\n",
    "### Additional materials\n",
    "\n",
    "\n",
    "## References\n",
    "\n",
    "\n",
    "[Figure 1]\n",
    "\n",
    "Balazs Aczel, Barnabas Szaszi, Gustav Nilsonne, Olmo R van den Akker, Casper J Albers, Marcel Alm van Assen, Jojanneke A Bastiaansen, Daniel Benjamin, Udo Boehm, Rotem Botvinik-Nezer, Laura F Bringmann, Niko A Busch, Emmanuel Caruyer, Andrea M Cataldo, Nelson Cowan, Andrew Delios, Noah Nn van Dongen, Chris Donkin, Johnny B van Doorn, Anna Dreber, Gilles Dutilh, Gary F Egan, Morton Ann Gernsbacher, Rink Hoekstra, Sabine Hoffmann, Felix Holzmeister, Juergen Huber, Magnus Johannesson, Kai J Jonas, Alexander T Kindel, Michael Kirchler, Yoram K Kunkels, D Stephen Lindsay, Jean-Francois Mangin, Dora Matzke, Marcus R Munafò, Ben R Newell, Brian A Nosek, Russell A Poldrack, Don van Ravenzwaaij, Jörg Rieskamp, Matthew J Salganik, Alexandra Sarafoglou, Tom Schonberg, Martin Schweinsberg, David Shanks, Raphael Silberzahn, Daniel J Simons, Barbara A Spellman, Samuel St-Jean, Jeffrey J Starns, Eric Luis Uhlmann, Jelte Wicherts, and Eric-Jan Wagenmakers. Consensus-based guidance for conducting and reporting multi-analyst studies. Elife, November 2021.\n",
    "\n",
    "\n",
    "## TlDR"
   ]
  },
  {
   "cell_type": "code",
   "execution_count": null,
   "id": "64e618ee",
   "metadata": {},
   "outputs": [],
   "source": []
  },
  {
   "cell_type": "markdown",
   "id": "dd31a76f",
   "metadata": {},
   "source": [
    "--ToDo----\n",
    "\n",
    "\n",
    "Digital Storytelling: Using digital tools and platforms to create and share stories, such as multimedia presentations, digital comics, and other forms of digital storytelling.\n",
    "    - data visualization, outreach\n",
    "\n"
   ]
  }
 ],
 "metadata": {
  "kernelspec": {
   "display_name": "Python 3 (ipykernel)",
   "language": "python",
   "name": "python3"
  },
  "language_info": {
   "codemirror_mode": {
    "name": "ipython",
    "version": 3
   },
   "file_extension": ".py",
   "mimetype": "text/x-python",
   "name": "python",
   "nbconvert_exporter": "python",
   "pygments_lexer": "ipython3",
   "version": "3.7.6"
  },
  "vscode": {
   "interpreter": {
    "hash": "5289083c3f5abe312d701549a23d918d5df8d2bf6b85b22b433ed91977547b08"
   }
  }
 },
 "nbformat": 4,
 "nbformat_minor": 5
}
