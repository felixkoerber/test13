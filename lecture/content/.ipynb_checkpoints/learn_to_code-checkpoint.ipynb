{
 "cells": [
  {
   "cell_type": "markdown",
   "id": "7caef1e6",
   "metadata": {},
   "source": [
    "# Learn to code - the basics\n"
   ]
  },
  {
   "cell_type": "markdown",
   "id": "96250f75",
   "metadata": {},
   "source": [
    "ToDo:\n",
    "    - incorporate bash, jupyter notebook tutorials"
   ]
  },
  {
   "cell_type": "markdown",
   "id": "193f0d85",
   "metadata": {},
   "source": [
    "### Where are we now?\n",
    "\n",
    "Before we start a lesson it is usually helpfulto reflect on what we already know about a certain topic or e.g. what a lesson may possibly try to teach us.\n",
    "\n",
    "So please take a few minutes to reflect on the concept of digital literacy with the following questions.\n",
    "\n",
    "\n",
    "**1.1**\n",
    "\n",
    "\n",
    "\n",
    "_Note: Feel free to do this in your head or in a separate document. Remember, to interactively engage with the material either open it in MyBinder (the small rocket button at the top of the website) or [download the course material](link to course zip), go through the [setup process](link to setup) and open this file (i.e digital_literacy.ipynb in the introduction folder) using Jupyter Notebooks or VScode._"
   ]
  },
  {
   "cell_type": "markdown",
   "id": "0224f84f",
   "metadata": {
    "slideshow": {
     "slide_type": "slide"
    }
   },
   "source": [
    "## Goals\n",
    "\n",
    "\n",
    "As already explained this course is designed to give you a comprehensive understanding of digital literacy and its various applications. \n",
    "\n",
    "Specific goals of this first session will be to\n",
    "\n",
    "* "
   ]
  },
  {
   "cell_type": "markdown",
   "id": "db8801dc",
   "metadata": {},
   "source": [
    "## Roadmap\n",
    "\n",
    "- **Goals**\n",
    "- me & machine\n",
    "    - GUI\n",
    "    - CLI\n",
    "    - IDE\n",
    "- path structures\n",
    "\n",
    "- translationsleistung\n",
    "\n",
    "- scripting?\n",
    "- how do i read/ work with online-tutorials \n",
    "\n"
   ]
  },
  {
   "cell_type": "markdown",
   "id": "5c675a8c",
   "metadata": {},
   "source": [
    "## Motivation: Why coding is necessary in modern research\n",
    "\n",
    "*\n",
    "\n",
    "main areas of interest:\n",
    "\n",
    "- create your own experiment and stimuli\n",
    "- data exploration & statistics\n",
    "- automatization & reprodcuibility"
   ]
  },
  {
   "cell_type": "markdown",
   "id": "f8317ed8",
   "metadata": {},
   "source": [
    "## You & your computer\n",
    "\n",
    "How do you interact with your computer? In general, you, as a user, provide some input that contains a task that your computer should perform in order to obtain a desired outcome. However, there are different ways you can approach this, each with advantages and disadvantages. More precisely this refers to the distinction between GUI (Graphical-User-Interface), CLI (Command-Line-Interface), IDEs (Integrated-development-environments). You'll probably be mostly familiar with GUIs, i.e. the \"windows\" a program provides functionality in (e.g. word, photoshop etc.). Command line interfaces on the other hand are purely text-based methods of interacting with your computer, requiring the knowledge of some kind of programming language and a bit of background knowledge on how to navigate the \"paths\" of your device. An integrated development environment (IDE) is a mixture of the two, helping people create software/code by putting all the tools they need in one place. Modern science relies on all of these approaches, often combining deidcated GUIs with basic CLI work.  \n",
    "\n",
    "Don't be discouraged if you've never heard about CLIs though. The main hurdles to utilize these for your work are mainly the inhibitory pschological barrier of not knowing where and how to start for most people and the need of an actual project to practice on.\n",
    "\n",
    "We'll try to deal with these hurdles as part of this session and also explore when and for what purposes you may want to rely on classical GUIs or switch to CLIs or IDEs. \n"
   ]
  },
  {
   "cell_type": "markdown",
   "id": "cfe03d2d",
   "metadata": {},
   "source": [
    "## GUI\n"
   ]
  },
  {
   "cell_type": "markdown",
   "id": "b4509042",
   "metadata": {},
   "source": [
    "### Experiment creation\n",
    "\n",
    "- Psychopy Builder\n",
    "\n",
    "### Data processing/statistics\n",
    "\n",
    "- JASP\n",
    "\n",
    "https://jasp-stats.org/"
   ]
  },
  {
   "cell_type": "markdown",
   "id": "91b00efd",
   "metadata": {},
   "source": [
    "## CLI"
   ]
  },
  {
   "cell_type": "markdown",
   "id": "985b5ed5",
   "metadata": {},
   "source": [
    "### automatization\n",
    "\n",
    "- BASH\n",
    "    - setup local file structure\n",
    "    - create/move files autimatically\n",
    "    - call dedicated packages\n",
    "    - pipelines\n",
    "\n",
    "- install software/create environments\n",
    "    - pip \n",
    "    - conda\n",
    "    - docker"
   ]
  },
  {
   "cell_type": "markdown",
   "id": "22ff2a99",
   "metadata": {},
   "source": [
    "## IDE"
   ]
  },
  {
   "cell_type": "markdown",
   "id": "c9d82dfd",
   "metadata": {},
   "source": [
    "### write code good\n",
    "\n",
    "- visual studio code"
   ]
  },
  {
   "cell_type": "markdown",
   "id": "8d45f5e5",
   "metadata": {},
   "source": [
    "### Homework, Excercises and ressources\n",
    "\n",
    "### Additional materials\n",
    "\n",
    "\n",
    "## References\n",
    "\n"
   ]
  },
  {
   "cell_type": "markdown",
   "id": "04e50906",
   "metadata": {},
   "source": [
    "### Where are we now?\n",
    "\n",
    "---- adapt and expand ------\n",
    "\n",
    "Please take a moment to reflect on if and how your understanding of the concept of digital literacy has possibly changed following this lecture.\n",
    "\n",
    "**2.1 How well informed we're you with regard to the current topic? (i.e.,\n",
    "did you know what was expecting you?)**\n",
    "\n",
    "**2.2) What was the most surprising part of the training/lecture for you? What information in particular stood out to you?**\n",
    "\n",
    "**2.3 What was one of the mentioned reasons on why you should care about digital literacy that seemed especially important to you?**\n",
    "\n",
    "**2.4 Could you think of other impacts that a better understanding of digital literacy may have on your life?**\n",
    "\n"
   ]
  },
  {
   "cell_type": "markdown",
   "id": "c4a9b529",
   "metadata": {},
   "source": [
    "## TLDR"
   ]
  }
 ],
 "metadata": {
  "kernelspec": {
   "display_name": "Python 3 (ipykernel)",
   "language": "python",
   "name": "python3"
  },
  "language_info": {
   "codemirror_mode": {
    "name": "ipython",
    "version": 3
   },
   "file_extension": ".py",
   "mimetype": "text/x-python",
   "name": "python",
   "nbconvert_exporter": "python",
   "pygments_lexer": "ipython3",
   "version": "3.7.6"
  }
 },
 "nbformat": 4,
 "nbformat_minor": 5
}
