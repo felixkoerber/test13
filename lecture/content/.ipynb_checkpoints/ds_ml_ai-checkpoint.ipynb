{
 "cells": [
  {
   "cell_type": "markdown",
   "id": "dfdeaeb3",
   "metadata": {},
   "source": [
    "## Machine Learning/AI: \n",
    "\n",
    "Developing algorithms to enable digital systems to automatically learn and improve their performance over time.\n"
   ]
  },
  {
   "cell_type": "markdown",
   "id": "1ae2b796",
   "metadata": {},
   "source": [
    "### Roadmap\n",
    "\n",
    "- Goals\n",
    "- Introduction\n",
    "- The ML/AI Decision Tree\n",
    "- Deep dive: Applied ML/AI in neuroscience\n"
   ]
  },
  {
   "cell_type": "markdown",
   "id": "a13498b5",
   "metadata": {},
   "source": [
    "\n",
    "### Artifical Intelligence; A.I.:\n",
    "\n",
    "Artificial Intelligence (AI) is a branch of computer science that deals with the creation of intelligent machines that work and react like humans. The goal of AI is to develop systems that can perform tasks that typically require human intelligence, such as speech recognition, decision making, and problem solving.\n",
    "\n",
    "In scientific research, AI has become an increasingly important tool for analyzing large amounts of data and making predictions and discoveries in a variety of fields, including biology, medicine, physics, and astronomy. AI algorithms can help scientists find patterns and relationships in data that would be difficult or impossible for humans to detect, leading to new insights and breakthroughs.\n",
    "\n",
    "The benefits of AI for scientific research include increased accuracy, efficiency, and the ability to handle large amounts of data. Additionally, AI can automate tedious and time-consuming tasks, freeing up scientists to focus on more high-level tasks. AI can also help make new discoveries and predictions that would not have been possible without it, leading to a better understanding of the world and faster progress in various fields.\n",
    "\n",
    "Distiniction specific and General AI:\n",
    "\n",
    "neural networks:\n",
    "\n",
    "\n",
    "Examples:\n"
   ]
  },
  {
   "cell_type": "markdown",
   "id": "567924e9",
   "metadata": {},
   "source": [
    "### Machine learning:\n",
    "\n",
    "Machine learning is a subfield of artificial intelligence (AI) that involves the development of algorithms that can learn from and make predictions or decisions based on data. The goal of machine learning is to allow computers to perform tasks that typically require human intelligence, such as recognizing patterns, making predictions, or classifying data.\n",
    "\n",
    "The purpose of machine learning is to provide computers with the ability to automatically improve their performance on a given task by learning from experience, without being explicitly programmed to perform that task. This allows machines to make better decisions or predictions as they are exposed to more data and improve over time.\n",
    "\n",
    "The benefits of machine learninginclude increased efficiency, accuracy, and the ability to handle large amounts of data. Additionally, machine learning can automate tasks that would otherwise be too time-consuming or complex for humans to perform.\n",
    "\n",
    "Machine learning is different from classical statistics in that it focuses on the development of algorithms that can learn from data and make predictions, whereas classical statistics focuses on the use of statistical models to make inferences and predictions based on data. Additionally, classical statistics requires a priori knowledge of the relationships between variables and the distribution of data, whereas machine learning algorithms can discover these relationships and distributions on their own through training.\n",
    "\n",
    "\n",
    "Examples:\n",
    "\n",
    "\n",
    "Excercises:"
   ]
  },
  {
   "cell_type": "markdown",
   "id": "14b0b1a8",
   "metadata": {},
   "source": [
    "### The ML/AI Decision Tree\n",
    "\n",
    "- copy graph"
   ]
  },
  {
   "cell_type": "markdown",
   "id": "0cabb3e8",
   "metadata": {},
   "source": [
    "### Deep dive: Applied ML/AI in neuroscience\n",
    "\n",
    "In the following sub-chapters we will do a deep dive into the specifics of ML/AI, how to use them via Pyhon and how these techniques may be utilized for neuroscience!"
   ]
  }
 ],
 "metadata": {
  "kernelspec": {
   "display_name": "Python 3 (ipykernel)",
   "language": "python",
   "name": "python3"
  },
  "language_info": {
   "codemirror_mode": {
    "name": "ipython",
    "version": 3
   },
   "file_extension": ".py",
   "mimetype": "text/x-python",
   "name": "python",
   "nbconvert_exporter": "python",
   "pygments_lexer": "ipython3",
   "version": "3.7.6"
  }
 },
 "nbformat": 4,
 "nbformat_minor": 5
}
