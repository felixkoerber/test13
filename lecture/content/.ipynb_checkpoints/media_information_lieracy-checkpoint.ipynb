{
 "cells": [
  {
   "cell_type": "markdown",
   "id": "c650a2f8",
   "metadata": {},
   "source": [
    "## Information & media literacy\n"
   ]
  },
  {
   "cell_type": "markdown",
   "id": "d900a1a8",
   "metadata": {},
   "source": [
    "\n",
    "Information & media literacy refers to the ability to access, evaluate, and use information and media in a critical and responsible manner. It involves understanding how information is produced, distributed, and consumed, and being able to identify credible sources and assess the quality of information. In today's digital age, where information is easily accessible and widely available, it's crucial for individuals to have strong information and media literacy skills to navigate the vast amount of information and media available. This knowledge will not only help you make informed decisions but also help you effectively participate in society. In this course, we will explore the fundamental concepts and skills of information & media literacy, helping you become a more informed and discerning consumer of information and media.\n",
    "\n"
   ]
  },
  {
   "cell_type": "markdown",
   "id": "8682c131",
   "metadata": {},
   "source": [
    "In this chapter, we will dive into the topic of information & media literacy in academia, with a focus on exploring various strategies and tools to make your research more open, accessible, and reproducible. We will cover a wide range of topics including how to find and evaluate data and published research and literature review strategies. \n",
    "\n",
    "Additionally, we will delve into producing academic works, starting with the basic ideas behind project design/creation to documemting the research process, writing code and programming analyses/workflows, managing data and finally writing a scientific paper."
   ]
  },
  {
   "cell_type": "markdown",
   "id": "e2c916fb",
   "metadata": {},
   "source": [
    "[Michael Ernst](https://github.com/M-earnest)  \n",
    "Phd student - [Fiebach Lab](http://www.fiebachlab.org/), [Neurocognitive Psychology](https://www.psychologie.uni-frankfurt.de/49868684/Abteilungen) at [Goethe-University Frankfurt](https://www.goethe-university-frankfurt.de/en?locale=en)\n"
   ]
  },
  {
   "cell_type": "markdown",
   "id": "d5b3be1e",
   "metadata": {},
   "source": [
    "### But why are we taliking about this, specificaly what will you gain?\n",
    "- succint understanding of the scientific process\n",
    "- how to organize, plan and conduct research\n",
    "- ability to use free, cutting edge tools to make your research as efficient and reproducible as possible\n",
    "\n",
    "\n",
    "#### Open science\n",
    "\n",
    "Replicability crisis, open science & pre-registration\n",
    "\n",
    "Yes, you already heard a lot of the current state of the academic system & science, specifically the problems. TL;DR: it’s all bad. However, there are a few aspects we still need to discuss in more detail. This session we’ll focus on the replicability/reproducibility crisis and potential (partial) solutions to it. This will entail outlining various causes of the replicability/reproducibility crisis and how, for example, pre-registration can be utilized to address parts of it."
   ]
  },
  {
   "cell_type": "markdown",
   "id": "20bc3626",
   "metadata": {},
   "source": [
    "## Roadmap\n",
    "\n",
    "each a separate notebook\n",
    "\n",
    "- **Goals**\n",
    "- project design/setup\n",
    "- find and evaluate data sources, published research & Literature review strategies\n",
    "- scientific writing\n",
    "    - Getting Started with Google Docs\n",
    "    - link to communication\n",
    "- documentation\n",
    "    - Creating/Maintaining a Lab-notbebook\n",
    "- programinng/coding in research/academia\n",
    "- data managment & storage\n",
    "\n",
    "   "
   ]
  },
  {
   "cell_type": "markdown",
   "id": "8d45f5e5",
   "metadata": {},
   "source": [
    "### Homework, Excercises and ressources\n",
    "\n",
    "### Additional materials\n",
    "\n",
    "\n",
    "## References\n",
    "\n"
   ]
  },
  {
   "cell_type": "markdown",
   "id": "f0075e78",
   "metadata": {},
   "source": [
    "ToDo:\n",
    "    - intro slide for ict, communication, media information\n",
    "    - https://oreoni.github.io/06/dist.html\n",
    "          \n",
    "Acknowledgments:\n",
    "- turing way\n",
    "- oreoni\n",
    "\n",
    "Quick-tutorial\n",
    "- science processss\n",
    "\n",
    "Website:\n",
    "- add worskhop page\n",
    "- add narration page\n",
    "- turn presentations into narrative content?\n",
    "\n",
    "\n"
   ]
  }
 ],
 "metadata": {
  "kernelspec": {
   "display_name": "Python 3 (ipykernel)",
   "language": "python",
   "name": "python3"
  },
  "language_info": {
   "codemirror_mode": {
    "name": "ipython",
    "version": 3
   },
   "file_extension": ".py",
   "mimetype": "text/x-python",
   "name": "python",
   "nbconvert_exporter": "python",
   "pygments_lexer": "ipython3",
   "version": "3.7.6"
  },
  "vscode": {
   "interpreter": {
    "hash": "5289083c3f5abe312d701549a23d918d5df8d2bf6b85b22b433ed91977547b08"
   }
  }
 },
 "nbformat": 4,
 "nbformat_minor": 5
}
