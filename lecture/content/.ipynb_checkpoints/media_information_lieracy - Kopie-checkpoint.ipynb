{
 "cells": [
  {
   "cell_type": "markdown",
   "id": "c650a2f8",
   "metadata": {},
   "source": [
    "## OSF - Manage your Research\n",
    "\n",
    "The `Open Science Framework (OSF)` is a powerful online platform designed to facilitate the collaborative and transparent sharing of research materials, data, and workflows. OSF serves as a central hub for researchers, scholars, and institutions to manage their research projects and collaborate with others across various fields of study. With the growing emphasis on transparency, reproducibility, and open access in scientific research, OSF has become an essential tool for promoting open science practices.\n",
    "\n",
    "The adoption of OSF by the scientific community has been driven by the need to address the `reproducibility crisis` and promote greater transparency in research. Researchers are increasingly recognizing the importance of sharing research materials, data, and code to enable others to validate and build upon their work. OSF provides a secure and centralized platform for sharing and archiving research data and materials, enabling researchers to make their work more transparent, accessible, and reusable.\n",
    "\n",
    "![OSF](https://www.cos.io/hs-fs/hubfs/workflow-21.png?width=1400&name=workflow-21.png)"
   ]
  },
  {
   "cell_type": "markdown",
   "id": "5f46025d",
   "metadata": {},
   "source": [
    "#### The Reproducibility Crisis\n",
    "\n",
    "The reproducibility crisis has become a major concern in scientific research in recent years. It refers to the inability of researchers to reproduce the findings of previous studies, leading to a lack of confidence in the scientific process and undermining the credibility of scientific research.\n",
    "\n",
    "This is issue is well known in psychology, where a the `Reproducibility Project` repeated 100 famous published psychology studies in the early 2010s. After ensuring that most conditions were met, when compared to the original studies, only 35 out of 97 results of studies could be replicated, often with a smaller effect sizes than in the original papers. Please check out the [produced paper](https://osf.io/ezcuj/wiki/home/), as it gives further context to reproducibility and the state that research still is in today.\n",
    "\n",
    "The reproducibility crisis is a complex issue with multiple underlying causes. One major factor is the pressure to publish and the emphasis on novel, groundbreaking results in scientific research. This pressure can lead to researchers cutting corners or engaging in questionable research practices in order to produce results that are more likely to be published. These practices can include selective reporting of results, p-hacking, and HARKing (hypothesizing after results are known).\n",
    "\n",
    "Another factor contributing to the reproducibility crisis is the lack of transparency in research. Many researchers do not share their raw data, code, or methodology with others, making it difficult for others to replicate their findings. This lack of transparency can lead to errors, biases, or even fraud going undetected, further undermining the credibility of scientific research.\n",
    "\n",
    "The consequences of the reproducibility crisis are far-reaching. For one, it can lead to a waste of time, money, and resources, as researchers attempt to replicate results that cannot be reproduced. It can also undermine public trust in science, leading to a decreased willingness to fund scientific research or adopt scientific findings in policy decisions. Additionally, it can harm the careers of researchers who cannot produce replicable results, leading to a disincentive to engage in rigorous scientific practices.\n",
    "\n",
    "To address the reproducibility crisis, researchers and institutions must take a multi-faceted approach. This includes adopting more transparent research practices, such as making raw data, code, and methodology openly available. It also includes adopting rigorous statistical and analytical practices, such as preregistering hypotheses and using appropriate statistical methods to avoid false positives.\n",
    "\n",
    "Furthermore, the scientific community must work to shift the culture around scientific research. This includes placing less emphasis on novel, groundbreaking results and more emphasis on rigorous, replicable research practices. It also includes valuing and incentivizing replication studies, which can help to identify errors or biases in previous studies."
   ]
  },
  {
   "cell_type": "markdown",
   "id": "fc421a29",
   "metadata": {},
   "source": [
    "Furthermore, OSF also provides a range of tools and features to help researchers manage their projects, collaborate with others, and streamline their workflows. By providing a comprehensive suite of tools and services, OSF helps researchers to work more efficiently and effectively, while also promoting the principles of open science.\n",
    "\n",
    "OSF is an important resource for the open science community, providing a powerful platform for sharing, collaborating, and managing research projects. As open science practices continue to gain traction, the use of OSF is likely to become even more widespread, facilitating greater transparency, reproducibility, and collaboration across scientific disciplines."
   ]
  }
 ],
 "metadata": {
  "kernelspec": {
   "display_name": "Python 3 (ipykernel)",
   "language": "python",
   "name": "python3"
  },
  "language_info": {
   "codemirror_mode": {
    "name": "ipython",
    "version": 3
   },
   "file_extension": ".py",
   "mimetype": "text/x-python",
   "name": "python",
   "nbconvert_exporter": "python",
   "pygments_lexer": "ipython3",
   "version": "3.7.6"
  }
 },
 "nbformat": 4,
 "nbformat_minor": 5
}
