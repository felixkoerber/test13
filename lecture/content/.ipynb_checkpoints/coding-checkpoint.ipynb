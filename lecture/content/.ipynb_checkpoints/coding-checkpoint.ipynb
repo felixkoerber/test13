{
 "cells": [
  {
   "cell_type": "markdown",
   "id": "59c7b6a2",
   "metadata": {},
   "source": [
    "# programming/coding in research/academia\n",
    "\n"
   ]
  },
  {
   "cell_type": "markdown",
   "id": "424bf30c",
   "metadata": {},
   "source": [
    "## Motivation: Why coding is necessary in modern research\n",
    "As we've already heard digital literacy involves the ability to use digital tools and technology effectively and efficiently. One such critical ability  for scientific work is coding/programming.\n",
    "In this chapter, we will therefore discuss and explore some of the fundamental concepts behind wirting code for scientific work and teach the basics of two of the most common and usefull programming languages.\n",
    "\n"
   ]
  },
  {
   "cell_type": "markdown",
   "id": "c38fb33d",
   "metadata": {},
   "source": [
    "Goals_\n",
    "- integrate Learn to code: the basics notebook\n",
    "- jupyter notebook tutorial\n",
    "- bash tutorial \n",
    "- python tutorial\n"
   ]
  },
  {
   "cell_type": "markdown",
   "id": "44714a04",
   "metadata": {},
   "source": [
    "\n",
    "## Roadmap\n",
    "\n",
    "\n",
    "### Sub-chapter 1: Learn to Code - The Basics\n",
    "\n",
    "Learning to code is becoming increasingly important in today's digital world. In this sub-chapter, we will introduce the basics of coding, including the fundamental concepts and terminologies. We will also discuss the importance of learning to code and its benefits.\n",
    "\n",
    "### Sub-chapter 2: Jupyter Notebook Tutorial\n",
    "\n",
    "Jupyter Notebooks are an interactive web-based tool that allows users to create and share documents that contain live code, equations, visualizations, and narrative text. In this sub-chapter, we will provide a tutorial on Jupyter Notebook and guide the readers through the basics of using this tool.\n",
    "\n",
    "### Sub-chapter 3: Bash Tutorial\n",
    "\n",
    "Bash is a language for the Unix shell (or the windows PowerShell), a command-line interface for interacting with the operating system. In this sub-chapter, we will provide a tutorial on Bash and guide the readers through the basics of using this tool. We will discuss the different commands and their functionalities.\n",
    "\n",
    "### Sub-chapter 4: Python Tutorial\n",
    "\n",
    "Python is a popular high-level programming language used for various purposes, including web development, data analysis, and artificial intelligence. In this sub-chapter, we will provide a tutorial on Python and guide the readers through the basics of programming with this language. We will discuss the syntax, data types, and control structures of Python."
   ]
  }
 ],
 "metadata": {
  "kernelspec": {
   "display_name": "Python 3 (ipykernel)",
   "language": "python",
   "name": "python3"
  },
  "language_info": {
   "codemirror_mode": {
    "name": "ipython",
    "version": 3
   },
   "file_extension": ".py",
   "mimetype": "text/x-python",
   "name": "python",
   "nbconvert_exporter": "python",
   "pygments_lexer": "ipython3",
   "version": "3.7.6"
  }
 },
 "nbformat": 4,
 "nbformat_minor": 5
}
