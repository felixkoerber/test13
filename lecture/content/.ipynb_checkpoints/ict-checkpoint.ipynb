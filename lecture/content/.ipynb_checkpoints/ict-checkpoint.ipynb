{
 "cells": [
  {
   "cell_type": "markdown",
   "id": "81ed1385",
   "metadata": {},
   "source": [
    "## ICT (information and communication technology) literacy\n",
    "    - adopt and use digital tools for research\n",
    "\n",
    "This part of our course will be concerned with the adoption and use of digital tools for research purposes. Here you'll get to know a collection of tools that can and will make your life as a scientist significantly easier, such as plagiarism checkers, citation software. We'll also be talking about the role of A.I. models as productivity tools, what to expect of them and how to possibly integrate them into your workflow.\n",
    "\n",
    "\n",
    "Mainly a collection of tools?\n",
    "\n",
    "\n",
    "- basic coding skills: Python\n",
    "\n",
    "\n",
    "\n",
    "\n",
    "Citation software & zotero https://www.ub.uni-frankfurt.de/literaturverwaltung/zotero.html\n",
    "\n",
    "new: \"Spotify for papers\"\n",
    "https://www.researchrabbit.ai/\n",
    "\n",
    "\n",
    "APA\n",
    "- https://apastyle.apa.org/style-grammar-guidelines/citations/plagiarism\n",
    "- plagiarism checkers:\n",
    "    - https://www.grammarly.com/plagiarism-checker\n",
    "\n",
    "A.I.: Productivity tools\n",
    "\n",
    "handle with care, i.e. as most of these are grounded in probablistic models their answers might change between sessions and \"runs\", while large language models further do not have an understanding of \"logic\", \"evidence\" or \"ground truth\".\n",
    "\n",
    "\n",
    "https://www.explainpaper.com/\n",
    "https://www.askpaper.ai/\n",
    "\n",
    "https://consensus.app/\n",
    "\n"
   ]
  },
  {
   "cell_type": "markdown",
   "id": "062d7298",
   "metadata": {},
   "source": [
    "[Michael Ernst](https://github.com/M-earnest)  \n",
    "Phd student - [Fiebach Lab](http://www.fiebachlab.org/), [Neurocognitive Psychology](https://www.psychologie.uni-frankfurt.de/49868684/Abteilungen) at [Goethe-University Frankfurt](https://www.goethe-university-frankfurt.de/en?locale=en)\n",
    "\n",
    "## Before we get started...\n",
    "<br>"
   ]
  },
  {
   "cell_type": "markdown",
   "id": "f32ae1fe",
   "metadata": {},
   "source": [
    "## Roadmap\n",
    "\n",
    "- **Goals**\n",
    "\n",
    "\n",
    "\n",
    "\n",
    "\n",
    "## Goals\n",
    "1. "
   ]
  },
  {
   "cell_type": "markdown",
   "id": "4aeb1871",
   "metadata": {},
   "source": [
    "### Homework, Excercises and ressources\n",
    "\n",
    "### Additional materials\n",
    "\n",
    "\n",
    "## References\n",
    "\n",
    "## TlDR"
   ]
  }
 ],
 "metadata": {
  "kernelspec": {
   "display_name": "Python 3 (ipykernel)",
   "language": "python",
   "name": "python3"
  },
  "language_info": {
   "codemirror_mode": {
    "name": "ipython",
    "version": 3
   },
   "file_extension": ".py",
   "mimetype": "text/x-python",
   "name": "python",
   "nbconvert_exporter": "python",
   "pygments_lexer": "ipython3",
   "version": "3.7.6"
  }
 },
 "nbformat": 4,
 "nbformat_minor": 5
}
