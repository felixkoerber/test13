{
 "cells": [
  {
   "cell_type": "markdown",
   "id": "427e5352",
   "metadata": {},
   "source": [
    "# Excercise: Practical implications of digital literacy:\n",
    "\n",
    "</br>\n",
    "</br>\n",
    "\n",
    "The following will introduce you to the practical implications that digital literaca training may have on our personal and professional life.\n",
    "\n",
    "There are, for example, some truly stunning revelations some people may have when being shown how to \"properly\" interact with digital tools, like students discovering the undo/redo shortcuts halfway to their academic life or e.g. that a [survey from 2011 revealed that 90% of people assessed did not know how to search for keywords on a website using cmd/ctrl+f](https://www.theatlantic.com/technology/archive/2011/08/crazy-90-percent-of-people-dont-know-how-to-use-ctrl-f/243840/),\n",
    "\n",
    "So to illustrate how awareness of use-cases, subtle strategies and changes to digital habits can lead to disproportiante changes in our everyday lifes, we'll be working with a certain tool that most people use on a daily basis. Google. To be more precise the google search engine.\n",
    "\n",
    "\n"
   ]
  },
  {
   "cell_type": "markdown",
   "id": "4d4863d5",
   "metadata": {},
   "source": [
    "### Where are we now?\n",
    "\n",
    "But let's reflect again on what you already know about this topic.\n",
    "\n",
    "Please take a moment to reflect on if and how your understanding of the concept of digital literacy has possibly changed following this lecture.\n",
    "\n",
    "**1.1 How often do you use the gooogle search engine in your daily life?**\n",
    "\n",
    "**1.3 Do you usually find what you are looking for on google?**\n",
    "\n",
    "**1.4 Do you use any search strategies?**\n",
    "\n",
    "**1.5 How long do you usually think about how to phrase a certain search?**\n",
    "\n",
    "**1.6 Could you describe what the google seach engine does and how it uses keywords to e.g. a preschooler?**\n",
    "\n",
    "**1.7 What could a chapter on google search possibly explain to you personally that you wouldn't already know?**\n",
    "\n"
   ]
  },
  {
   "cell_type": "markdown",
   "id": "968ee38c",
   "metadata": {},
   "source": [
    "### Excercise 1:\n",
    "\n",
    "We've probably all seen or heard about how some less \"tech-savy\" people use google like: \n",
    "\n",
    "\n",
    "\n",
    "<img src=\"https://i.redd.it/5uviid1r4ub01.png\" alt=\"Alternative text\" />\n",
    "\n",
    "\n",
    "<center> \n",
    "<a href=\"https://www.reddit.com/r/oldpeoplefacebook/comments/7sf3oc/hre_you_open_today/\">via reddit.com</a>\n",
    "</center>\n",
    "\n",
    "\n",
    "\n",
    "I.e. using a more personal or conversational tone and relying on long, descriptive phrases, instead of specific keywords and being generally unaware of advanced search operators.\n",
    "\n",
    "\n",
    "**Now what would be some tips that you'd provide to this individual?**\n",
    "\n",
    "\n",
    "_Please answer in the cell below (or e.g. in your notetaking app)_"
   ]
  },
  {
   "cell_type": "code",
   "execution_count": null,
   "id": "2c413ffb",
   "metadata": {},
   "outputs": [],
   "source": []
  },
  {
   "cell_type": "markdown",
   "id": "13e3ff3d",
   "metadata": {},
   "source": [
    "### Excercise 2:\n",
    "\n",
    "Now let's further evaluate your google search behavior. For this we'll have you briefly jot down how you would normally approach using google to search for **something** in the field below. You could e.g. mention search strategies, your use of search operators, if you'd go with sparse or ver specific prompts etc..\n",
    "\n",
    "\n",
    "_Remember that this is a self-study course, so just be open and honest. This will later on allow you to look bakc on these materials and evaluate how far you've come or how much you already knew!_"
   ]
  },
  {
   "cell_type": "code",
   "execution_count": null,
   "id": "c2f9db0b",
   "metadata": {},
   "outputs": [],
   "source": []
  },
  {
   "cell_type": "markdown",
   "id": "5650e961",
   "metadata": {},
   "source": [
    "## Example Skill: How to google effectively\n",
    "\n",
    "Now let's explore some simple tips to better understand how to effectively search for somethning using google. This list is of course not extensive and all encompassing, so check-out the additional material at the end of the lesson, if you really want to up your search game!\n",
    "\n",
    "1. query formation (use central key words and specifiers)\n",
    "2. use search operators (https://www.google.ca/advanced_search makes your life easier)\n",
    "3. change the search location and language (settings -> search settings -> region settings)\n",
    "4. Don't use biased questions\n",
    "\n",
    "\n"
   ]
  },
  {
   "cell_type": "markdown",
   "id": "f7f3dc12",
   "metadata": {},
   "source": [
    "### 1.query formation: \n",
    "\n",
    "In general, keep in mind that:\n",
    "- Every word matters\n",
    "    - try searching for:\n",
    "        - star\n",
    "        - star wars\n",
    "        - star wars novel\n",
    "        \n",
    "\n",
    "- order matters:\n",
    "    - `war stars novel` vs `star wars novel`\n",
    "    \n",
    "- punctuation matters:\n",
    "    - google `red, delicious apple` vs `red delicious apple`\n",
    "    \n",
    "\n",
    "Use a basic search strategy\n",
    "- take a stepping stone approach -> become increasingly more specfic by successively including search terms, but amke sure they are relevant inclusions\n",
    "\n",
    "- incopoprate search operatores as demonstrated in the next part\n",
    "\n",
    "\n"
   ]
  },
  {
   "cell_type": "markdown",
   "id": "2dff178c",
   "metadata": {},
   "source": [
    "### 2. use search operators \n",
    "\n",
    "- exact matches? put key word in quotation marks `\"Key word\"`\n",
    "- exclude something from a search -> add a minus sign before the key word you're excluding -> `- Key word`\n",
    "- Combine search terms with `OR, AND` logic\n",
    "    - should a match necessarily include eboth terms use AND\n",
    "        - e.g. square AND green\n",
    "    - should a match necessarily only include one term but not the other use OR\n",
    "        - e.g. square OR green\n",
    "- specify time-frames using `AFTER:`, `BEFORE:` or between `..`\n",
    "\n",
    "\n",
    "- use the UI to make your life easier -> https://www.google.ca/advanced_search\n",
    "- and chekout this [guide](https://www.googleguide.com/advanced_operators_reference.html) for a truly extensive list of all search operators and how to apply them"
   ]
  },
  {
   "cell_type": "markdown",
   "id": "e0b088a9",
   "metadata": {},
   "source": [
    "### 3. change the search location and language (settings -> search settings -> region settings)\n",
    "\n",
    "searching for a specific german or english term? "
   ]
  },
  {
   "cell_type": "markdown",
   "id": "0c16b7a1",
   "metadata": {},
   "source": [
    "### 4. Don't use biased questions\n",
    "\n",
    "If you ever had to settle an argument you might have encountered this:\n",
    "    - Person A. googles -> has stress negative effects\n",
    "    - Person B. googles -> has stress positive effects\n",
    "\n",
    "Now what's the \"ground truth\"?\n",
    "\n",
    "Let's use a neutral approach like:\n",
    "\n",
    "- pros and cons of stress\n",
    "- effects of stress\n"
   ]
  },
  {
   "cell_type": "markdown",
   "id": "15071ebf",
   "metadata": {},
   "source": [
    "### Excercise 3\n",
    "\n",
    "Google search the following X, make sure to exclude X and look for pdf files only!\n",
    "Answer in the cell below"
   ]
  },
  {
   "cell_type": "code",
   "execution_count": null,
   "id": "448a7abc",
   "metadata": {},
   "outputs": [],
   "source": [
    "\n"
   ]
  },
  {
   "cell_type": "markdown",
   "id": "3bbc434a",
   "metadata": {},
   "source": [
    "### Digital literacy, Google Search and Sciene?\n",
    "\n",
    "Now how learning to better your \"googling\" skills relates to digital literac is rather straightforward, but let's put the skill behind \"googling\" into perspective. \n",
    "\n",
    "A basic research workflow looks a lot like the basic google search strategy people may apply. \n",
    "Imagine looking for a new restaurant in your city to introduce a friend to your favourite kind of cuisine.\n",
    "\n",
    "The steps could look something like this:\n",
    "\n",
    "**1.Task Identification**\n",
    "- require information on \"Where\", \"What\", \"When\", \"How expensive\"\n",
    "\n",
    "\n",
    "**2. Identify, locate and evaluate Sources** \n",
    "- google, bing, duck duck go?\n",
    "- query formation?\n",
    "\n",
    "**3. Aquire information**\n",
    "- look at some of the search results\n",
    "\n",
    "**4. Analysis**\n",
    "- what's the \"best\" restaurant regarding e.g. price, location and opening hours\n",
    "\n",
    "**5. communicate results**\n",
    "- text your friend what you've found out\n",
    "\n",
    "**6. Evaluate Process and results**\n",
    "- do search results suffice, are all questions answered? i.e is your friend not satisfied or you couldn't come to an agreement? Start back at **1.** and re-evaluate your task and query formation!\n",
    "\n"
   ]
  },
  {
   "cell_type": "markdown",
   "id": "10c26db7",
   "metadata": {},
   "source": [
    "### Conclusion\n",
    "\n",
    "So with or without you explicit knowledge you've been doing research all along! Now there are of course practices and \"rules\" to doing \"proper\" research, such as actually evaluating the qulaity and veracity of your sources. So, in future sessions we will be teaching you how to master each of these steps and which open source tools you may implement in your research. As a result you'll have an approximate understanding of what this following illustration is meant to communicate:\n",
    " \n"
   ]
  },
  {
   "cell_type": "markdown",
   "id": "74dbc614",
   "metadata": {},
   "source": [
    "### Additional materials\n",
    "\n",
    "\n",
    "For more in-depth guides check-out the:\n",
    "    \n",
    "   [Google education:  Power Searching with Google](https://coursebuilder.withgoogle.com/sample/course)\n",
    "        \n",
    "        \n",
    "and the following video on how DR.Russel arrived at those straegies and how people \"search\":\n",
    "   \n",
    "   [The Joy of Search: Augmenting Intelligence By Teaching People How to Search](https://www.youtube.com/watch?v=HxuRA3_b2iw)\n",
    "        \n",
    "    "
   ]
  }
 ],
 "metadata": {
  "kernelspec": {
   "display_name": "Python 3 (ipykernel)",
   "language": "python",
   "name": "python3"
  },
  "language_info": {
   "codemirror_mode": {
    "name": "ipython",
    "version": 3
   },
   "file_extension": ".py",
   "mimetype": "text/x-python",
   "name": "python",
   "nbconvert_exporter": "python",
   "pygments_lexer": "ipython3",
   "version": "3.7.6"
  }
 },
 "nbformat": 4,
 "nbformat_minor": 5
}
