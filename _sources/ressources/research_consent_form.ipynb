{
 "cells": [
  {
   "cell_type": "markdown",
   "id": "7f58a22c",
   "metadata": {},
   "source": [
    "## Open Brain Consent Form\n",
    "\n",
    "[Make open data sharing a no-brainer for ethics committees](https://open-brain-consent.readthedocs.io/en/stable/index.html)."
   ]
  },
  {
   "cell_type": "markdown",
   "id": "ea6579c9",
   "metadata": {},
   "source": [
    "\n",
    "\n",
    "Research especially in pschology or neuroscience is often dependent on the collection of new data from human subjects. Given the complexities of the (german) General Data Protection Regulation [(GDPR)](https://gdpr-info.eu/) and to avoid tassles with the local ethics comittees the \"Open Brain Consent Form\" was created to be ethically and legally waterproof, while allowing researchers to openly share their collected datasets. While the document was developed for neuroimaging studies it can be adapted to most forms of data with little effort.\n",
    "\n",
    "**As we are comitted to research transaprency and open sciene we advise you to make use of this document for your own research.**\n",
    "\n",
    "\n",
    "**GDPR conform:**\n",
    "\n",
    "[German version](https://open-brain-consent.readthedocs.io/en/stable/gdpr/i18n/ultimate_gdpr.de.html)\n",
    "\n",
    "[English version (GDPR)](https://open-brain-consent.readthedocs.io/en/stable/gdpr/ultimate_gdpr.html#english)\n",
    "\n",
    "**Outside of germany:**\n",
    "\n",
    "[Ultimate brain consent form](https://open-brain-consent.readthedocs.io/en/stable/ultimate.html)\n",
    "\n",
    "\n",
    "\n",
    "**When using this template please acknowledge the creators accordingly:**\n",
    "\n",
    "Open Brain Consent working group (2021). The Open Brain Consent: Informing research participants and obtaining consent to share brain imaging data. Human Brain Mapping, 1-7 https://doi.org/10.1002/hbm.25351.\n"
   ]
  }
 ],
 "metadata": {
  "kernelspec": {
   "display_name": "Python 3 (ipykernel)",
   "language": "python",
   "name": "python3"
  },
  "language_info": {
   "codemirror_mode": {
    "name": "ipython",
    "version": 3
   },
   "file_extension": ".py",
   "mimetype": "text/x-python",
   "name": "python",
   "nbconvert_exporter": "python",
   "pygments_lexer": "ipython3",
   "version": "3.7.6"
  }
 },
 "nbformat": 4,
 "nbformat_minor": 5
}
