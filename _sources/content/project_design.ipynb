{
 "cells": [
  {
   "cell_type": "markdown",
   "id": "dc6878a7",
   "metadata": {},
   "source": [
    "# Project design in the digital age\n"
   ]
  },
  {
   "cell_type": "markdown",
   "id": "ee79b2a0",
   "metadata": {},
   "source": [
    "### before we start\n",
    "\n",
    "This is chapter is an intorudction to the topic of project design and largely connects most of the course content, we'll therefore be concentrating on the larger picture and only provide short introductions to most topics, while linking to in-depth sections. \n",
    "\n",
    "Following the steps in this chapter allows you to setup a professional research project, which is up to modern standards."
   ]
  },
  {
   "cell_type": "markdown",
   "id": "59c05e71",
   "metadata": {},
   "source": [
    "### Where are we now?\n",
    "\n",
    "Before we start a lesson it is usually helpfulto reflect on what we already know about a certain topic or e.g. what a lesson may possibly try to teach us.\n",
    "\n",
    "So please take a few minutes to reflect on the concept of digital literacy with the following questions.\n",
    "\n",
    "###### rephrase/expand\n",
    "\n",
    "**1.1 What is your understanding of porject design?**\n",
    "\n",
    "**1.2 What could you be possibly learn?**\n",
    "\n",
    "**1.3 How do you usually start your research process?**\n",
    "\n",
    "\n",
    "\n",
    "_Note: Feel free to do this in your head or in a separate document. Remember, to interactively engage with the material either open it in MyBinder (the small rocket button at the top of the website) or [download the course material](link to course zip), go through the [setup process](link to setup) and open this file (i.e digital_literacy.ipynb in the introduction folder) using Jupyter Notebooks or VScode._"
   ]
  },
  {
   "cell_type": "markdown",
   "id": "8f1db3ad",
   "metadata": {},
   "source": [
    "## Goals\n",
    "\n",
    "\n",
    "Specific goals of this first session will be to\n",
    "\n",
    "* general understanding\n",
    "* get familiar with process\n",
    "* provide a checklist to follow\n",
    "* understanding on why project design is an essential step"
   ]
  },
  {
   "cell_type": "markdown",
   "id": "d95ce566",
   "metadata": {},
   "source": [
    "## Roadmap\n",
    "\n",
    "each with a separate notebooks \n",
    "\n",
    "- **Goals**\n",
    "- Introduction to project design/setup\n",
    "- General considerations\n",
    "- project design checklist\n",
    "    - 1. Setup local folder structure (BIDS), \n",
    "    - 2. create an online folder structure (Github repo) \n",
    "    - 3. setup a project prsenece (OSF)\n",
    "    - 4. create a reference library (Zotero)\n",
    "    - 5. setting up a prgogramming environment\n",
    "    - 6. Data managment plan\n",
    "    - 7. Pre-registration\n",
    "- Additional materials"
   ]
  },
  {
   "cell_type": "markdown",
   "id": "2f8b4f27",
   "metadata": {},
   "source": [
    "\n",
    "#### Introduction\n",
    "\n",
    "\n",
    "The process of doing science has changed drastically over the years. While it is of course still possible to simply maintain a word document with all your ideas, notes, citations or i.e code snippets & statistics or to simply store your data and writing in whatever way feels comfortable for you, there has been a number of new tools and standards that will make your life much easier and turn you into a more organized/better scientist/student.\n",
    "\n",
    "Project design is mostly concerned with the initial process planing and organizing the framework to conduct reserach in. This might seem trivial, but is essential. It allows us not only to more deeply engage with our research question, but is also relevant for the reproducibility of a project.\n",
    "\n",
    "An inidviudal project will surivive longer than the research that is done on it and will (potentially) influence the scientific consensus on a given topic down the line by providing data, insights or new methods. Therefore managing the presence and meticulously documenting what was done, what decisons were made and where the gathered information and data is stored is essential to the long-term impact of your work.\n",
    "\n",
    "For this puprose the following chapters will explore how to setup a project in the \"digital age\", what tools to use, what to look out for and where you may find more information.\n",
    "\n",
    "Most of the tools used will probably be unfamillar but we will do our best to provide a short introduction and guide on their usage in their spefic chapters.\n",
    "\n"
   ]
  },
  {
   "cell_type": "markdown",
   "id": "c567f43f",
   "metadata": {},
   "source": [
    "\n",
    "### General considerations: How to get started\n",
    "\n",
    "    \n",
    "---------- expand ----------\n",
    "    \n",
    "    define your research question\n",
    "        - what, how, why?\n",
    "    define the methods you want to employ, e.g. ask yourself the following question\n",
    "    - collect new data or work with preexisting data, data modality\n",
    "    - data preprocessing, quality control etc.\n",
    "    - statistical analysis\n",
    "    - which tools are you going to need (digital or e.g. for data collection)\n",
    "    - solo, local or bigger collaboration?\n",
    "    - licensing?\n",
    "    \n",
    "\n",
    "In-depth:\n",
    "Turing way\n",
    "https://the-turing-way.netlify.app/project-design/pd-overview/pd-overview-methods.html\n",
    "https://the-turing-way.netlify.app/project-design/pd-overview/pd-overview-planning.html\n",
    "    \n",
    "    \n"
   ]
  },
  {
   "cell_type": "markdown",
   "id": "4a39a3ec",
   "metadata": {},
   "source": [
    "### Project design checklist\n",
    "1. Setup local folder structure (BIDS), \n",
    "2. create an online folder structure (Github repo) \n",
    "3. setup a project prsenece (OSF)\n",
    "4. create a reference library (Zotero)\n",
    "5. setting up a prgogramming environment\n",
    "6. Data managment plan\n",
    "7. Pre-registration\n"
   ]
  },
  {
   "cell_type": "markdown",
   "id": "f81bbf2f",
   "metadata": {},
   "source": [
    "### 1. Setup local folder structure (BIDS), \n",
    "\n",
    "\n",
    "\n",
    "\n",
    "It is recommended to adopt a standarized approach to structuring your data, as this not only helps you stay consistent, but also allows you and possible collaborators to easily identify where specific data is located.\n",
    "\n",
    "The most promising/popular approach to this is [BIDS](https://bids.neuroimaging.io/) (Brain Imaging Data Structure). Originally conceptualizes as a standarized format for the organization and description of fMRI data, the format can be extended to encompass other kinds of neuroimaging and corresponding behavioral data.\n",
    "\n",
    "Short Bids tutorial and link to dedicacted data managment section\n",
    "\n",
    "\n",
    "To learn more checkout the following ressources:\n",
    "- https://bids-standard.github.io/bids-starter-kit/folders_and_files/folders.html\n"
   ]
  },
  {
   "cell_type": "markdown",
   "id": "92feb2fc",
   "metadata": {},
   "source": [
    "### 2. Github repo\n",
    "\n",
    "- licensing https://the-turing-way.netlify.app/reproducible-research/licensing/licensing-software.html"
   ]
  },
  {
   "cell_type": "markdown",
   "id": "f11908dc",
   "metadata": {},
   "source": [
    "### 3. OSF presence, \n"
   ]
  },
  {
   "cell_type": "markdown",
   "id": "8c42f4c1",
   "metadata": {},
   "source": [
    "\n",
    "\n",
    "\n",
    "\n",
    "OSF project\n",
    "\n",
    "As mentioned above, this session will start with a step-by-step setup within which every demo experiment group will create an OSF project as a central landing page for everything project related and start integration different tools/resources (e.g. zotero, etc.). This OSF project will be continuously update throughout the work on the demo experiment and also be part of the grade.\n",
    "\n",
    "\n",
    "\n",
    "\n",
    "\n"
   ]
  },
  {
   "cell_type": "markdown",
   "id": "ce0a22be",
   "metadata": {},
   "source": [
    "### 4. Zotero Library\n",
    "\n",
    "[Zotero](https://www.zotero.org/):\n",
    "    \n",
    "\n",
    "\n",
    "- organize literature based on collections, libraries, groups, etc.\n",
    "- add notes, tags, annotations, etc.\n",
    "- various sources of references: articles, books, website, etc.\n",
    "- browser & text editor plugin \n",
    "- also a citation manager\n",
    "- groub/organization libraries\n",
    "- info re DOIs, PDF, etc.\n",
    "- share & export, also via groups\n"
   ]
  },
  {
   "cell_type": "markdown",
   "id": "3e1cd9b1",
   "metadata": {},
   "source": [
    "### 5. setting up a prgogramming environment (i.e. \"virtualization)\n",
    "\n",
    "short intro re virtualization\n",
    "\n",
    "- why necessary\n",
    "- reproducibility\n",
    "\n",
    "- visualization inspiration -> https://docs.google.com/presentation/d/175zGc6o6S5RwdMm-YZv6HnDCZbC6fejGk4hLbt7Pyvo/edit#slide=id.gfae5d00741_0_1398\n"
   ]
  },
  {
   "cell_type": "markdown",
   "id": "1b6592ef",
   "metadata": {},
   "source": [
    "### 6. Data management plan\n",
    "\n",
    "- consider how the data will be used, archived and shared\n",
    "- documetation\n",
    "\n",
    "\n",
    "You’ll be asked to start drafting a data management plan that you can later add to the online presences of your online project. This is again a reminder for yourself what exactly your planning to do and how to go about it and will be the main piece of your methods setion should you aim for publication, but also allows reader/collarorators to gain a quick understanding of what data you'll be collecting, where this data can be found and what exactly you're planing on doing with it.\n",
    "\n",
    "\n",
    " \n",
    "https://the-turing-way.netlify.app/reproducible-research/rdm.html#rr-rdm\n",
    "Turing way\n",
    "1. Roles and Responsibilities\n",
    "2. Type and size of data collected and documentation/metadata generated\n",
    "3. Type of data storage used and back up procedures that are in place\n",
    "\n"
   ]
  },
  {
   "cell_type": "markdown",
   "id": "c4efca39",
   "metadata": {},
   "source": [
    "### 7. Pre-registration\n",
    "\n",
    "Pre-registration\n",
    "\n",
    "\n",
    "„The specification of a research design, hypotheses, and analysis plan prior to observing the outcomes of a study“  Nosek & Lindsay (2018)\n",
    "A time-stamped record of your experiment design, methods, planned analysis that is publicly available. \n",
    "(Can be done either before you collect data or before you begin analysis.)\n",
    "AsPredicted.org\n",
    "OSF Preregistration Template\n",
    "\n",
    "**Advantages**\n",
    "\n",
    "- separation of confirmatory & exploratory research (you can do both, just be honest & state everything)\n",
    "- you cannot fool yourself due to decreased flexibility in data management & analyses\n",
    "- closer to the scientific approach: make predictions about the world and investigate if they hold up\n",
    "\n",
    "\n",
    "The important distinction(s) between confirmatory & exploratory research\n",
    "\n",
    "**confirmatory research**\n",
    "analyze hypotheses\n",
    "Number of hypothesis tests known\n",
    "Error rate control possible\n",
    "\n",
    "\n",
    "**exploratory research**\n",
    "browse through data\n",
    "Number of hypothesis tests unknown\n",
    "Error rate control impossible\n",
    "\n",
    "\n",
    "#### Excercise\n",
    "Here, we’ll use the aspredicted platform to get some experience.\n",
    "\n",
    "https://aspredicted.org/\n",
    "https://www.cos.io/initiatives/registered-reports\n",
    "\n",
    "#### further reading\n",
    "\n",
    "https://www.youtube.com/watch?v=8QK2-udwoK8"
   ]
  },
  {
   "cell_type": "markdown",
   "id": "038c17c6",
   "metadata": {},
   "source": [
    "### Where are we now?\n",
    "\n",
    "---- adapt and expand ------\n",
    "\n",
    "Please take a moment to reflect on if and how your understanding of the concept of digital literacy has possibly changed following this lecture.\n",
    "\n",
    "**2.1 How well informed we're you with regard to the current topic? (i.e.,\n",
    "did you know what was expecting you?)**\n",
    "\n",
    "**2.2) What was the most surprising part of the training/lecture for you? What information in particular stood out to you?**\n",
    "\n",
    "**2.3 What was one of the mentioned reasons on why you should care about digital literacy that seemed especially important to you?**\n",
    "\n",
    "**2.4 Could you think of other impacts that a better understanding of digital literacy may have on your life?**\n",
    "\n"
   ]
  },
  {
   "cell_type": "markdown",
   "id": "9953a654",
   "metadata": {},
   "source": [
    "### Homework, Excercises and ressources\n",
    "\n",
    "### Additional materials\n",
    "\n",
    "#### Further reading\n",
    "\n",
    "The go-to ressource for creating and maintaining scientific projects was created by the [Turing Way project](https://the-turing-way.netlify.app/welcome.html).\n",
    "\n",
    "We'll break down the ressource here very quickly, and provide a handy checklist, but once you get started with an project or if your interested in a deep-dive on project design, check out the following:\n",
    "\n",
    "https://the-turing-way.netlify.app/project-design/project-design.html\n",
    "\n",
    "\n",
    "## References\n",
    "\n",
    "\n",
    "\n",
    "## TLDR\n",
    "\n",
    "We will necessarily be increasingly relying on computational support to deal with information, data and analysis as a direct result of the increase in complexity, volume and speed in the creation of scientific works. Therefore it is crucial to be equipped with the understanding and skill to know how and when to rely on digital assets. If you wanna hang with the best, get with the times!\n",
    "\n",
    "We've further learned about\n",
    "\n",
    "- digital literacy, definition and it's components\n",
    "- the role of digital literacy in the research worklfow\n",
    "- ethical implication and why we should care"
   ]
  }
 ],
 "metadata": {
  "kernelspec": {
   "display_name": "Python 3 (ipykernel)",
   "language": "python",
   "name": "python3"
  },
  "language_info": {
   "codemirror_mode": {
    "name": "ipython",
    "version": 3
   },
   "file_extension": ".py",
   "mimetype": "text/x-python",
   "name": "python",
   "nbconvert_exporter": "python",
   "pygments_lexer": "ipython3",
   "version": "3.7.6"
  }
 },
 "nbformat": 4,
 "nbformat_minor": 5
}
