{
 "cells": [
  {
   "cell_type": "markdown",
   "id": "8f813b60",
   "metadata": {},
   "source": [
    "### Communication and Collaboration"
   ]
  },
  {
   "cell_type": "markdown",
   "id": "a248b6a4",
   "metadata": {},
   "source": [
    "[Michael Ernst](https://github.com/M-earnest)  \n",
    "Phd student - [Fiebach Lab](http://www.fiebachlab.org/), [Neurocognitive Psychology](https://www.psychologie.uni-frankfurt.de/49868684/Abteilungen) at [Goethe-University Frankfurt](https://www.goethe-university-frankfurt.de/en?locale=en)\n"
   ]
  },
  {
   "cell_type": "markdown",
   "id": "ee214c75",
   "metadata": {},
   "source": [
    "#### Beyond publication: research dissemination & communication\n",
    "\n",
    "\n",
    "\n"
   ]
  },
  {
   "attachments": {},
   "cell_type": "markdown",
   "id": "d54184ab",
   "metadata": {},
   "source": [
    "### Where are we now?\n",
    "\n",
    "Before we start a lesson it is usually helpful to reflect on what we already know about a certain topic or e.g. what a lesson may possibly try to teach us.\n",
    "\n",
    "So please take a few minutes to reflect on the concept of digital literacy with the following questions.\n",
    "\n",
    "\n",
    "**1.1**\n",
    "\n",
    "\n",
    "```{note}\n",
    "Feel free to do this in your head or in a separate document. Remember, to interactively engage with the material either open it in MyBinder (the small rocket button at the top of the website) or [download the course material](link to course zip), go through the [setup process](link to setup) and open this file (i.e digital_literacy.ipynb in the introduction folder) using Jupyter Notebooks or VScode.\n",
    "```\n"
   ]
  },
  {
   "attachments": {},
   "cell_type": "markdown",
   "id": "8a747e63",
   "metadata": {
    "slideshow": {
     "slide_type": "slide"
    }
   },
   "source": [
    "#### Objectives 📍\n",
    "\n",
    "In this part of the lecture we will go over the essentials of Communication and Collaboration, both integral parts to the scientific process (and of course also outside of science).\n",
    "Specific goals of this first session will be to:\n",
    "\n",
    "* "
   ]
  },
  {
   "attachments": {},
   "cell_type": "markdown",
   "id": "db8801dc",
   "metadata": {},
   "source": [
    "## Roadmap\n",
    "- Digital Collaboration\n",
    "- Digital Storytelling:\n",
    "    - Creating content using Jupyter Books\n",
    "    - Hosting content using Github and Github pages\n",
    "- Data visualization\n",
    "- Science communication: Publication and Beyond\n",
    "- Networks & outreach\n"
   ]
  },
  {
   "attachments": {},
   "cell_type": "markdown",
   "id": "6aa42d5a",
   "metadata": {},
   "source": [
    "## Introduction\n",
    "\n",
    "- importance of collaboration in research\n",
    "- importance of communication in research\n",
    "\n",
    "- avenues of communication/collaboration\n",
    "- motivation\n",
    "- what to expect\n",
    "\n",
    "\n",
    "<img align=\"center\" src=\"https://oreoni.github.io/_images/fig5.png\" alt=\"logo\" title=\"jupyter\" width=\"500\" /> \n",
    "\n"
   ]
  },
  {
   "attachments": {},
   "cell_type": "markdown",
   "id": "9773ea74",
   "metadata": {},
   "source": []
  },
  {
   "attachments": {},
   "cell_type": "markdown",
   "id": "ba9dff45",
   "metadata": {},
   "source": []
  },
  {
   "attachments": {},
   "cell_type": "markdown",
   "id": "fe5c3e2c",
   "metadata": {},
   "source": []
  },
  {
   "cell_type": "markdown",
   "id": "22f1d558",
   "metadata": {},
   "source": [
    "### Where are we now?\n",
    "\n",
    "---- adapt and expand ------\n",
    "\n",
    "Please take a moment to reflect on if and how your understanding of the concept of digital literacy has possibly changed following this lecture.\n",
    "\n",
    "**2.1 How well informed we're you with regard to the current topic? (i.e.,\n",
    "did you know what was expecting you?)**\n",
    "\n",
    "**2.2) What was the most surprising part of the training/lecture for you? What information in particular stood out to you?**\n",
    "\n",
    "**2.3 What was one of the mentioned reasons on why you should care about digital literacy that seemed especially important to you?**\n",
    "\n",
    "**2.4 Could you think of other impacts that a better understanding of digital literacy may have on your life?**\n",
    "\n"
   ]
  },
  {
   "cell_type": "markdown",
   "id": "c66820e6",
   "metadata": {},
   "source": [
    "### Homework, Excercises and ressources\n",
    "\n",
    "    - find 3 local researchers whoose work could be of interest of you, follow them on osf and researchgate\n",
    " \n",
    "    - request paper access via Reserachate\n",
    "    \n",
    "   \n",
    "    - follow 1 scientist on github\n",
    "    \n",
    "\n",
    "### Additional materials\n",
    "\n",
    "\n",
    "## References\n",
    "\n",
    "\n",
    "[Figure 1]\n",
    "\n",
    "Balazs Aczel, Barnabas Szaszi, Gustav Nilsonne, Olmo R van den Akker, Casper J Albers, Marcel Alm van Assen, Jojanneke A Bastiaansen, Daniel Benjamin, Udo Boehm, Rotem Botvinik-Nezer, Laura F Bringmann, Niko A Busch, Emmanuel Caruyer, Andrea M Cataldo, Nelson Cowan, Andrew Delios, Noah Nn van Dongen, Chris Donkin, Johnny B van Doorn, Anna Dreber, Gilles Dutilh, Gary F Egan, Morton Ann Gernsbacher, Rink Hoekstra, Sabine Hoffmann, Felix Holzmeister, Juergen Huber, Magnus Johannesson, Kai J Jonas, Alexander T Kindel, Michael Kirchler, Yoram K Kunkels, D Stephen Lindsay, Jean-Francois Mangin, Dora Matzke, Marcus R Munafò, Ben R Newell, Brian A Nosek, Russell A Poldrack, Don van Ravenzwaaij, Jörg Rieskamp, Matthew J Salganik, Alexandra Sarafoglou, Tom Schonberg, Martin Schweinsberg, David Shanks, Raphael Silberzahn, Daniel J Simons, Barbara A Spellman, Samuel St-Jean, Jeffrey J Starns, Eric Luis Uhlmann, Jelte Wicherts, and Eric-Jan Wagenmakers. Consensus-based guidance for conducting and reporting multi-analyst studies. Elife, November 2021.\n",
    "\n",
    "\n",
    "## TlDR"
   ]
  },
  {
   "cell_type": "code",
   "execution_count": null,
   "id": "64e618ee",
   "metadata": {},
   "outputs": [],
   "source": []
  },
  {
   "cell_type": "markdown",
   "id": "dd31a76f",
   "metadata": {},
   "source": [
    "--ToDo----\n",
    "\n",
    "\n",
    "Digital Storytelling: Using digital tools and platforms to create and share stories, such as multimedia presentations, digital comics, and other forms of digital storytelling.\n",
    "    - data visualization, outreach\n",
    "\n"
   ]
  }
 ],
 "metadata": {
  "kernelspec": {
   "display_name": "Python 3 (ipykernel)",
   "language": "python",
   "name": "python3"
  },
  "language_info": {
   "codemirror_mode": {
    "name": "ipython",
    "version": 3
   },
   "file_extension": ".py",
   "mimetype": "text/x-python",
   "name": "python",
   "nbconvert_exporter": "python",
   "pygments_lexer": "ipython3",
   "version": "3.7.6"
  },
  "vscode": {
   "interpreter": {
    "hash": "5289083c3f5abe312d701549a23d918d5df8d2bf6b85b22b433ed91977547b08"
   }
  }
 },
 "nbformat": 4,
 "nbformat_minor": 5
}
