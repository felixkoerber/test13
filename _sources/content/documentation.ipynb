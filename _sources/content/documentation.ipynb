{
 "cells": [
  {
   "cell_type": "markdown",
   "id": "d119ada2",
   "metadata": {},
   "source": [
    "# documentation/other academic content"
   ]
  },
  {
   "cell_type": "markdown",
   "id": "5fe56e5b",
   "metadata": {},
   "source": [
    "\n",
    "\n",
    "But academic content can take on many forms beside the classic report or thesis paper, especially now that it's become easier than ever to create an online presence a community of scientists is switching to creating websites documenting their research endeavours in-depth, often alongside classic journal publications.\n",
    "\n",
    "These \"living publications\" often take the form of an e-book that is freely accessible online. An example of this can be found here for the [publication “Neuroscout: a unified platform for generalizable and reproducible fMRI research”](https://neuroscout.github.io/neuroscout-paper/intro.html).\n",
    "\n",
    "In the chapter [communication and collaboration]() you'll learn how to create such an online presence. \n",
    "\n",
    "\n",
    "#### Creating/Maintaining a Lab-notbebook\n",
    "\n",
    "The underlying content is often derived from the documentation scientists write alongside their scientific work. A usefull tool to take notes and document your work is a so called \"lab notebook\". \n",
    "\n",
    "\n",
    "Getting into the habit of maintaing a lab notebook is crucial for beginner scientists, regardless of their field of study, but is also a relevant skill for every professional.\n",
    "\n",
    "It is a tool to record all of your observations, measurements, calculations, and ideas related to a scientific experiment or project. A well-kept lab notebook serves as a permanent record of your work and can be a valuable resource for future reference, collaboration, and communication with others. Storing it online, e.g. on a project [repository on GitHub]() allows you to access your notes from anywhere in the world.\n",
    "\n",
    "\n",
    "Your Lab Notebook May either be project specfifc or may be kept more in the form of a \"research diary\", were you jot down what you've been working on throught a day or week.\n",
    "\n",
    "Content could be:\n",
    "\n",
    "    Date and title of the experiment, project or sub-task that you've been working on\n",
    "    Background information and purpose, links or snippets of relevant literature\n",
    "    Code and related bugs you may have encountered, including how you've solved them\n",
    "    Procedure, including step-by-step instructions and any deviations from the plan\n",
    "    Observations, including data and measurements recorded during the experiment\n",
    "    Calculations, including formulas and results\n",
    "    Drawings, Graphs and visual aids\n",
    "    Questions that came up during your work\n",
    "    Problems you may have encountered\n",
    "    \n",
    "\n",
    "How often you update and how extensive your entries are, are entirely up to you. A good habit is to take short notes at the end of each workday and translate them into your Lab notebook once a week. This not only helps you keep tabs on the work you've been doing, but also helps you to more deeply think about and engage with your work. It further provides a handy ressource for progress meetings with other students or Professors and P.I.s \n",
    "\n",
    "Jupyter Notebook:\n",
    "\n",
    "A popular file format for writing a lab-notebook and for scientific content creation is the [Jupyter Notebook](link), as it provides a convenient and interactive environment for data analysis, visualization, and presentation. With Jupyter, you can mix code, text, mathematical equations, and multimedia in one document, making it an ideal tool for researchers, data scientists, and students alike. Jupyter supports multiple programming languages, including Python, R, and Julia, and it is easy to share and collaborate with others on your work. \n",
    "\n",
    "Whether you're taking notes and collecting code snippets in your lab-notebook, or writing a report, research paper, Jupyter Notebooks can help you organize and communicate your findings effectively.\n",
    "\n",
    "An in-depth lesson on content cretion with Jupyter Notebooks can be found in the sub-chapter [Jupyter Notebooks]()\n",
    "\n",
    "\n",
    "\n",
    "#### Excercise:\n",
    "    \n",
    "    Writing a Lab-Notebook\n",
    "    \n",
    "    \n",
    "    \n",
    "\n",
    "#### Excercise:\n",
    "    \n",
    "    Creating a Jupyter Notebook\n",
    "        - e.g. see python homework"
   ]
  }
 ],
 "metadata": {
  "kernelspec": {
   "display_name": "Python 3 (ipykernel)",
   "language": "python",
   "name": "python3"
  },
  "language_info": {
   "codemirror_mode": {
    "name": "ipython",
    "version": 3
   },
   "file_extension": ".py",
   "mimetype": "text/x-python",
   "name": "python",
   "nbconvert_exporter": "python",
   "pygments_lexer": "ipython3",
   "version": "3.7.6"
  }
 },
 "nbformat": 4,
 "nbformat_minor": 5
}
