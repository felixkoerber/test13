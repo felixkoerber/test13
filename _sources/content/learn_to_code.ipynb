{
 "cells": [
  {
   "cell_type": "markdown",
   "id": "7caef1e6",
   "metadata": {},
   "source": [
    "# Learn to code - the basics\n",
    "\n",
    "---- ToDO: general consideration before or after intro to python?"
   ]
  },
  {
   "cell_type": "markdown",
   "id": "193f0d85",
   "metadata": {},
   "source": [
    "### Where are we now?\n",
    "\n",
    "Before we start a lesson it is usually helpfulto reflect on what we already know about a certain topic or e.g. what a lesson may possibly try to teach us.\n",
    "\n",
    "So please take a few minutes to reflect on the concept of digital literacy with the following questions.\n",
    "\n",
    "\n",
    "**1.1**\n",
    "\n",
    "\n",
    "\n",
    "_Note: Feel free to do this in your head or in a separate document. Remember, to interactively engage with the material either open it in MyBinder (the small rocket button at the top of the website) or [download the course material](link to course zip), go through the [setup process](link to setup) and open this file (i.e digital_literacy.ipynb in the introduction folder) using Jupyter Notebooks or VScode._"
   ]
  },
  {
   "cell_type": "markdown",
   "id": "0224f84f",
   "metadata": {
    "slideshow": {
     "slide_type": "slide"
    }
   },
   "source": [
    "## Goals\n",
    "\n",
    "\n",
    "As already explained this course is designed to give you a comprehensive understanding of digital literacy and its various applications. \n",
    "\n",
    "Specific goals of this first session will be to\n",
    "\n",
    "* "
   ]
  },
  {
   "cell_type": "markdown",
   "id": "db8801dc",
   "metadata": {},
   "source": [
    "## Roadmap\n",
    "\n",
    "- **Goals**\n",
    "- me & machine\n",
    "    - GUI\n",
    "    - CLI\n",
    "    - IDE\n",
    "- path structures\n",
    "- scripting: how to write a \"programm\"\n",
    "- how do i read/ work with online-tutorials\n",
    "\n",
    "\n"
   ]
  },
  {
   "cell_type": "markdown",
   "id": "5c675a8c",
   "metadata": {},
   "source": [
    "## Motivation: Why coding is necessary in modern research\n",
    "\n",
    "\n",
    "main areas of interest:\n",
    "\n",
    "- create your own experiment and stimuli\n",
    "- data exploration & statistics\n",
    "- automatization & reprodcuibility"
   ]
  },
  {
   "cell_type": "markdown",
   "id": "f8317ed8",
   "metadata": {},
   "source": [
    "## You & your computer\n",
    "\n",
    "How do you interact with your computer? In general, you, as a user, provide some input that contains a task that your computer should perform in order to obtain a desired outcome. However, there are different ways you can approach this, each with advantages and disadvantages. More precisely this refers to the distinction between GUI (Graphical-User-Interface), CLI (Command-Line-Interface), IDEs (Integrated-development-environments). You'll probably be mostly familiar with GUIs, i.e. the \"windows\" a program provides functionality in (e.g. word, photoshop etc.). Command line interfaces on the other hand are purely text-based methods of interacting with your computer, requiring the knowledge of some kind of programming language and a bit of background knowledge on how to navigate the \"paths\" of your device. An integrated development environment (IDE) is a mixture of the two, helping people create software/code by putting all the tools they need in one place. Modern science relies on all of these approaches, often combining deidcated GUIs with basic CLI work.  \n",
    "\n",
    "Don't be discouraged if you've never heard about CLIs though. The main hurdles to utilize these for your work are mainly the inhibitory pschological barrier of not knowing where and how to start for most people and the need of an actual project to practice on.\n",
    "\n",
    "We'll try to deal with these hurdles as part of this session and also explore when and for what purposes you may want to rely on classical GUIs or switch to CLIs or IDEs. \n",
    "\n",
    "In the following lessons we will dive deeper into how to write code via the Python programming language."
   ]
  },
  {
   "cell_type": "markdown",
   "id": "cfe03d2d",
   "metadata": {},
   "source": [
    "### GUI\n"
   ]
  },
  {
   "cell_type": "markdown",
   "id": "b4509042",
   "metadata": {},
   "source": [
    "Programms usng GUIs come pre-packaged. They provide specific functions for specific purposes, but for the sciences lack the flexibility that the CLIs and IDEs embrace.\n",
    "\n",
    "In research they are mostly used to either create and present experiments or to analyse or process data. \n",
    "\n",
    "#### Experiment creation\n",
    "\n",
    "----- ToDO: expand\n",
    "\n",
    "- Psychopy Builder\n",
    "    - short description\n",
    "    - where to find more info\n",
    "    - \n",
    "\n",
    "#### Data processing/statistics\n",
    "\n",
    "----- ToDO: expand\n",
    "\n",
    "- JASP\n",
    "\n",
    "https://jasp-stats.org/"
   ]
  },
  {
   "cell_type": "markdown",
   "id": "91b00efd",
   "metadata": {},
   "source": [
    "### CLI"
   ]
  },
  {
   "cell_type": "markdown",
   "id": "985b5ed5",
   "metadata": {},
   "source": [
    "You will mainly use command line interfaces for three purposes.\n",
    "1. To access server systems without a GUI\n",
    "2. To automatzie workflows \n",
    "3. To install software\n",
    "4. To use environment managers/virtualization tools\n",
    "\n",
    "#### automatization\n",
    "----- ToDO: expand\n",
    "\n",
    "- BASH\n",
    "    - setup local file structure\n",
    "    - create/move files autimatically\n",
    "    - call dedicated packages\n",
    "    - pipelines\n",
    "\n",
    "#### install software\n",
    "----- ToDO: expand & explain role\n",
    "\n",
    "    - pip \n",
    "    - conda\n",
    "\n",
    "#### Virtualization\n",
    "\n",
    "----- ToDO: expand & quick tutorial / maybe add excercises\n",
    "\n",
    "    - conda\n",
    "    - docker"
   ]
  },
  {
   "cell_type": "markdown",
   "id": "22ff2a99",
   "metadata": {},
   "source": [
    "## IDE"
   ]
  },
  {
   "cell_type": "markdown",
   "id": "c9d82dfd",
   "metadata": {},
   "source": [
    "IDEs allow for full flexibility and freedom in creating whatever functionality is necessary for your project, but as with the CLI they require knowledge of a programming language. They are industry standard and are essentially \"agnostic\", in the sense that tey can be adapted to work with any programming language.\n",
    "\n",
    "\n",
    "### write code good\n",
    "\n",
    "\n",
    "- visual studio code\n",
    "\n",
    "----- ToDO: expand\n",
    "\n",
    "    - general introduction\n",
    "    - motivation\n",
    "    - setup\n",
    "    - integrated terminal/runner, edbugger etc.\n",
    "    - add-ons/extensions: linter, git, jupyter-render, docker etc."
   ]
  },
  {
   "cell_type": "markdown",
   "id": "c11eedb1",
   "metadata": {},
   "source": [
    "## Jupyter notebooks: a special case\n",
    "\n",
    "\n",
    "Jupyter notebooks are a widely-used, open-source tool for interactive computing. They are not technically an ide but a webbrowser-based interactive computing platform used to run code in Python and R for example. It's importnat to note that webbrowser-based  means that you installed internet browser of choice is used to display the jupyter notebook window but an internet connection is not necessary and none of your data will be transmitted, if your using a local installation.\n",
    "\n",
    "\n",
    "The main benefits of Jupyter notebooks lies in the ability to combine live code, equations, visualizations, rich media presentations, and narrative text in a single document. This makes it easy to create engaging, interactive content to communicate complex concepts, such as a research workflow. Notebooks are further great \n",
    "\n",
    "    - data visualization and exploration, \n",
    "    - documentation\n",
    "    - teaching/learning \n",
    "    - presentation of results\n",
    "\n",
    "Due to this **Jupyter Notebookss** have become the community standard for communicating and performing interactive computing.\n",
    "\n",
    "A Jupyter notebook file has the file-ending .ipynb and can either be opened and adapted using either the [Jupyter Notebook application](https://jupyter.org/) or IDEs like VScode.\n",
    "\n",
    "\n",
    "You can try how this works here: [Try Jupyter Notebooks](https://jupyter.org/try-jupyter/retro/notebooks/?path=notebooks/Intro.ipynb)\n",
    "\n",
    "The following chapter [\"Introduction to Jupyter Notebooks\"]() will provide a more in-depth explanation of the Jupyter interface and it's capabilities.\n",
    "\n",
    "\n",
    "### JupyterLab: A Next-Generation Notebook Interface\n",
    "\n",
    "The Jupyter Notebook has further been adapted to the needs of modern research workflows. The JupyterLab application is an IDE for notebooks, code, and data and provides most of the functionality as e.g. VScode.\n",
    "\n",
    "You can try it here: [Try Jupyter lab](https://jupyter.org/try-jupyter/lab/)\n"
   ]
  },
  {
   "cell_type": "markdown",
   "id": "708bba68",
   "metadata": {},
   "source": [
    "## Scripting: how to read/write a \"program\"\n",
    "\n",
    "----- ToDO: expand & introduction\n",
    "\n",
    "- path structures & imports?\n",
    "- fileformats\n",
    "- style guides: https://peps.python.org/pep-0008/"
   ]
  },
  {
   "cell_type": "markdown",
   "id": "7f66456c",
   "metadata": {},
   "source": [
    "## how do i read/ work with online-tutorials\n",
    "\n",
    "----- ToDO: ???\n",
    "\n",
    "- general tips\n",
    "- my data is in a completly different structure etc.\n",
    "\n"
   ]
  },
  {
   "cell_type": "markdown",
   "id": "da5d2f17",
   "metadata": {},
   "source": [
    "## What to do when things go wrong\n",
    "\n",
    "----- ToDO: ???\n",
    "- how to google error messages\n",
    "    https://dev.to/swyx/how-to-google-your-errors-2l6o\n",
    "\n",
    "- how to use stack overflow\n",
    "    - https://www.quora.com/How-can-I-use-Stack-Overflow-effectively-as-a-beginner\n",
    "    - https://www.youtube.com/watch?v=Vt-Wf7d0CFo\n",
    "- how to debug (strategies & tips)"
   ]
  },
  {
   "cell_type": "markdown",
   "id": "8d45f5e5",
   "metadata": {},
   "source": [
    "### Homework, Excercises and ressources\n",
    "\n",
    "\n",
    "### Additional materials\n",
    "\n",
    "\n",
    "## References\n",
    "\n"
   ]
  },
  {
   "cell_type": "markdown",
   "id": "04e50906",
   "metadata": {},
   "source": [
    "### Where are we now?\n",
    "\n",
    "---- adapt and expand ------\n",
    "\n",
    "Please take a moment to reflect on if and how your understanding of the concept of digital literacy has possibly changed following this lecture.\n",
    "\n",
    "**2.1 How well informed we're you with regard to the current topic? (i.e.,\n",
    "did you know what was expecting you?)**\n",
    "\n",
    "**2.2) What was the most surprising part of the training/lecture for you? What information in particular stood out to you?**\n",
    "\n",
    "**2.3 What was one of the mentioned reasons on why you should care about digital literacy that seemed especially important to you?**\n",
    "\n",
    "**2.4 Could you think of other impacts that a better understanding of digital literacy may have on your life?**\n",
    "\n"
   ]
  },
  {
   "cell_type": "markdown",
   "id": "c4a9b529",
   "metadata": {},
   "source": [
    "## TLDR"
   ]
  }
 ],
 "metadata": {
  "kernelspec": {
   "display_name": "Python 3 (ipykernel)",
   "language": "python",
   "name": "python3"
  },
  "language_info": {
   "codemirror_mode": {
    "name": "ipython",
    "version": 3
   },
   "file_extension": ".py",
   "mimetype": "text/x-python",
   "name": "python",
   "nbconvert_exporter": "python",
   "pygments_lexer": "ipython3",
   "version": "3.7.6"
  }
 },
 "nbformat": 4,
 "nbformat_minor": 5
}
